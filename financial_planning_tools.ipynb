{
 "cells": [
  {
   "cell_type": "markdown",
   "metadata": {},
   "source": [
    "# Financial Planning with APIs and Simulations\n",
    "\n",
    "In this Challenge, you’ll create two financial analysis tools by using a single Jupyter notebook:\n",
    "\n",
    "Part 1: A financial planner for emergencies. The members will be able to use this tool to visualize their current savings. The members can then determine if they have enough reserves for an emergency fund.\n",
    "\n",
    "Part 2: A financial planner for retirement. This tool will forecast the performance of their retirement portfolio in 30 years. To do this, the tool will make an Alpaca API call via the Alpaca SDK to get historical price data for use in Monte Carlo simulations.\n",
    "\n",
    "You’ll use the information from the Monte Carlo simulation to answer questions about the portfolio in your Jupyter notebook.\n",
    "\n"
   ]
  },
  {
   "cell_type": "code",
   "execution_count": 154,
   "metadata": {},
   "outputs": [],
   "source": [
    "# Import the required libraries and dependencies\n",
    "import os\n",
    "import requests\n",
    "import json\n",
    "import pandas as pd\n",
    "from dotenv import load_dotenv\n",
    "import alpaca_trade_api as tradeapi\n",
    "from MCForecastTools import MCSimulation\n",
    "\n",
    "%matplotlib inline"
   ]
  },
  {
   "cell_type": "code",
   "execution_count": 17,
   "metadata": {},
   "outputs": [],
   "source": [
    "# Load the environment variables from the .env file\n",
    "#by calling the load_dotenv function\n",
    "load_dotenv()\n",
    "\n",
    "ALPACA_API_KEY = os.getenv(\"ALPACA_API_KEY\") \n",
    "ALPACA_SECRET_KEY = os.getenv(\"ALPACA_SECRET_KEY\") \n",
    "\n",
    "# Create the Alpaca tradeapi.REST object\n",
    "Alpaca = tradeapi.REST(ALPACA_API_KEY,ALPACA_SECRET_KEY,api_version = \"v2\")"
   ]
  },
  {
   "cell_type": "markdown",
   "metadata": {},
   "source": [
    "## Part 1: Create a Financial Planner for Emergencies"
   ]
  },
  {
   "cell_type": "markdown",
   "metadata": {},
   "source": [
    "### Evaluate the Cryptocurrency Wallet by Using the Requests Library\n",
    "\n",
    "In this section, you’ll determine the current value of a member’s cryptocurrency wallet. You’ll collect the current prices for the Bitcoin and Ethereum cryptocurrencies by using the Python Requests library. For the prototype, you’ll assume that the member holds the 1.2 Bitcoins (BTC) and 5.3 Ethereum coins (ETH). To do all this, complete the following steps:\n",
    "\n",
    "1. Create a variable named `monthly_income`, and set its value to `12000`.\n",
    "\n",
    "2. Use the Requests library to get the current price (in US dollars) of Bitcoin (BTC) and Ethereum (ETH) by using the API endpoints that the starter code supplies.\n",
    "\n",
    "3. Navigate the JSON response object to access the current price of each coin, and store each in a variable.\n",
    "\n",
    "    > **Hint** Note the specific identifier for each cryptocurrency in the API JSON response. The Bitcoin identifier is `1`, and the Ethereum identifier is `1027`.\n",
    "\n",
    "4. Calculate the value, in US dollars, of the current amount of each cryptocurrency and of the entire cryptocurrency wallet.\n",
    "\n"
   ]
  },
  {
   "cell_type": "code",
   "execution_count": 3,
   "metadata": {},
   "outputs": [],
   "source": [
    "# The current number of coins for each cryptocurrency asset held in the portfolio.\n",
    "btc_coins = 1.2\n",
    "eth_coins = 5.3"
   ]
  },
  {
   "cell_type": "markdown",
   "metadata": {},
   "source": [
    "#### Step 1: Create a variable named `monthly_income`, and set its value to `12000`."
   ]
  },
  {
   "cell_type": "code",
   "execution_count": 4,
   "metadata": {},
   "outputs": [],
   "source": [
    "# The monthly amount for the member's household income\n",
    "monthly_income = 12000\n"
   ]
  },
  {
   "cell_type": "markdown",
   "metadata": {},
   "source": [
    "#### Review the endpoint URLs for the API calls to Free Crypto API in order to get the current pricing information for both BTC and ETH."
   ]
  },
  {
   "cell_type": "code",
   "execution_count": 5,
   "metadata": {},
   "outputs": [],
   "source": [
    "# The Free Crypto API Call endpoint URLs for the held cryptocurrency assets\n",
    "btc_url = \"https://api.alternative.me/v2/ticker/Bitcoin/?convert=USD\"\n",
    "eth_url = \"https://api.alternative.me/v2/ticker/Ethereum/?convert=USD\"\n"
   ]
  },
  {
   "cell_type": "markdown",
   "metadata": {},
   "source": [
    "#### Step 2. Use the Requests library to get the current price (in US dollars) of Bitcoin (BTC) and Ethereum (ETH) by using the API endpoints that the starter code supplied."
   ]
  },
  {
   "cell_type": "code",
   "execution_count": 6,
   "metadata": {},
   "outputs": [
    {
     "name": "stdout",
     "output_type": "stream",
     "text": [
      "{\n",
      "    \"data\": {\n",
      "        \"1\": {\n",
      "            \"circulating_supply\": 18772393,\n",
      "            \"id\": 1,\n",
      "            \"last_updated\": 1627751950,\n",
      "            \"max_supply\": 21000000,\n",
      "            \"name\": \"Bitcoin\",\n",
      "            \"quotes\": {\n",
      "                \"USD\": {\n",
      "                    \"market_cap\": 775622330141,\n",
      "                    \"percent_change_1h\": -0.584926443608851,\n",
      "                    \"percent_change_24h\": 5.82224350120516,\n",
      "                    \"percent_change_7d\": 23.5299188616196,\n",
      "                    \"percentage_change_1h\": -0.584926443608851,\n",
      "                    \"percentage_change_24h\": 5.82224350120516,\n",
      "                    \"percentage_change_7d\": 23.5299188616196,\n",
      "                    \"price\": 41328.0,\n",
      "                    \"volume_24h\": 34272260063\n",
      "                }\n",
      "            },\n",
      "            \"rank\": 1,\n",
      "            \"symbol\": \"BTC\",\n",
      "            \"total_supply\": 18772393,\n",
      "            \"website_slug\": \"bitcoin\"\n",
      "        }\n",
      "    },\n",
      "    \"metadata\": {\n",
      "        \"error\": null,\n",
      "        \"num_cryptocurrencies\": 3105,\n",
      "        \"timestamp\": 1627751950\n",
      "    }\n",
      "}\n"
     ]
    }
   ],
   "source": [
    "# Using the Python requests library, make an API call to access the current price of BTC\n",
    "btc_response = requests.get(btc_url).json()\n",
    "\n",
    "# Use the json.dumps function to review the response data from the API call\n",
    "# Use the indent and sort_keys parameters to make the response object readable\n",
    "print(json.dumps(btc_response, indent=4, sort_keys=True))\n"
   ]
  },
  {
   "cell_type": "code",
   "execution_count": 7,
   "metadata": {},
   "outputs": [
    {
     "name": "stdout",
     "output_type": "stream",
     "text": [
      "{\n",
      "    \"data\": {\n",
      "        \"1027\": {\n",
      "            \"circulating_supply\": 116917118,\n",
      "            \"id\": 1027,\n",
      "            \"last_updated\": 1627751939,\n",
      "            \"max_supply\": 0,\n",
      "            \"name\": \"Ethereum\",\n",
      "            \"quotes\": {\n",
      "                \"USD\": {\n",
      "                    \"market_cap\": 286203495926,\n",
      "                    \"percent_change_1h\": -0.675290920442403,\n",
      "                    \"percent_change_24h\": 4.47233612803328,\n",
      "                    \"percent_change_7d\": 15.6280474753681,\n",
      "                    \"percentage_change_1h\": -0.675290920442403,\n",
      "                    \"percentage_change_24h\": 4.47233612803328,\n",
      "                    \"percentage_change_7d\": 15.6280474753681,\n",
      "                    \"price\": 2448.02,\n",
      "                    \"volume_24h\": 21888533924\n",
      "                }\n",
      "            },\n",
      "            \"rank\": 2,\n",
      "            \"symbol\": \"ETH\",\n",
      "            \"total_supply\": 116917118,\n",
      "            \"website_slug\": \"ethereum\"\n",
      "        }\n",
      "    },\n",
      "    \"metadata\": {\n",
      "        \"error\": null,\n",
      "        \"num_cryptocurrencies\": 3105,\n",
      "        \"timestamp\": 1627751939\n",
      "    }\n",
      "}\n"
     ]
    }
   ],
   "source": [
    "# Using the Python requests library, make an API call to access the current price E\n",
    "eth_response = requests.get(eth_url).json()\n",
    "\n",
    "# Use the json.dumps function to review the response data from the API call\n",
    "# Use the indent and sort_keys parameters to make the response object readable\n",
    "print(json.dumps(eth_response, indent=4, sort_keys=True))\n"
   ]
  },
  {
   "cell_type": "markdown",
   "metadata": {},
   "source": [
    "#### Step 3: Navigate the JSON response object to access the current price of each coin, and store each in a variable.\n"
   ]
  },
  {
   "cell_type": "code",
   "execution_count": 8,
   "metadata": {},
   "outputs": [
    {
     "name": "stdout",
     "output_type": "stream",
     "text": [
      "The current price for btc is 41328.0\n"
     ]
    }
   ],
   "source": [
    "# Navigate the BTC response object to access the current price of BTC\n",
    "btc_price = btc_response['data']['1'][\"quotes\"][\"USD\"][\"price\"]\n",
    "\n",
    "# Print the current price of BTC\n",
    "print(f\"The current price for btc is {btc_price}\")\n"
   ]
  },
  {
   "cell_type": "code",
   "execution_count": 9,
   "metadata": {},
   "outputs": [
    {
     "name": "stdout",
     "output_type": "stream",
     "text": [
      "The current price for ETH is 2448.02\n"
     ]
    }
   ],
   "source": [
    "# Navigate the BTC response object to access the current price of ETH\n",
    "eth_price = eth_response['data']['1027'][\"quotes\"][\"USD\"][\"price\"]\n",
    "\n",
    "# Print the current price of ETH\n",
    "print(f\"The current price for ETH is {eth_price}\")\n"
   ]
  },
  {
   "cell_type": "markdown",
   "metadata": {},
   "source": [
    "### Step 4: Calculate the value, in US dollars, of the current amount of each cryptocurrency and of the entire cryptocurrency wallet."
   ]
  },
  {
   "cell_type": "code",
   "execution_count": 28,
   "metadata": {},
   "outputs": [
    {
     "name": "stdout",
     "output_type": "stream",
     "text": [
      "The current value for BTC holding is 49593.6\n"
     ]
    }
   ],
   "source": [
    "# Compute the current value of the BTC holding \n",
    "btc_value = btc_coins* btc_price\n",
    "\n",
    "# Print current value of your holding in BTC\n",
    "print(f\"The current value for BTC holding is {btc_value}\")\n"
   ]
  },
  {
   "cell_type": "code",
   "execution_count": 29,
   "metadata": {},
   "outputs": [
    {
     "name": "stdout",
     "output_type": "stream",
     "text": [
      "The current value for ETH holding is 12974.506\n"
     ]
    }
   ],
   "source": [
    "# Compute the current value of the ETH holding \n",
    "eth_value =  eth_coins * eth_price\n",
    "\n",
    "# Print current value of your holding in ETH\n",
    "print(f\"The current value for ETH holding is {eth_value}\")\n"
   ]
  },
  {
   "cell_type": "code",
   "execution_count": 30,
   "metadata": {},
   "outputs": [
    {
     "name": "stdout",
     "output_type": "stream",
     "text": [
      "The current cryptocurrency wallet balance 62568.106\n"
     ]
    }
   ],
   "source": [
    "# Compute the total value of the cryptocurrency wallet\n",
    "# Add the value of the BTC holding to the value of the ETH holding\n",
    "total_crypto_wallet = eth_value + btc_value\n",
    "\n",
    "# Print current cryptocurrency wallet balance\n",
    "print(f\"The current cryptocurrency wallet balance {total_crypto_wallet}\")\n"
   ]
  },
  {
   "cell_type": "markdown",
   "metadata": {},
   "source": [
    "### Evaluate the Stock and Bond Holdings by Using the Alpaca SDK\n",
    "\n",
    "In this section, you’ll determine the current value of a member’s stock and bond holdings. You’ll make an API call to Alpaca via the Alpaca SDK to get the current closing prices of the SPDR S&P 500 ETF Trust (ticker: SPY) and of the iShares Core US Aggregate Bond ETF (ticker: AGG). For the prototype, assume that the member holds 110 shares of SPY, which represents the stock portion of their portfolio, and 200 shares of AGG, which represents the bond portion. To do all this, complete the following steps:\n",
    "\n",
    "1. In the `Starter_Code` folder, create an environment file (`.env`) to store the values of your Alpaca API key and Alpaca secret key.\n",
    "\n",
    "2. Set the variables for the Alpaca API and secret keys. Using the Alpaca SDK, create the Alpaca `tradeapi.REST` object. In this object, include the parameters for the Alpaca API key, the secret key, and the version number.\n",
    "\n",
    "3. Set the following parameters for the Alpaca API call:\n",
    "\n",
    "    - `tickers`: Use the tickers for the member’s stock and bond holdings.\n",
    "\n",
    "    - `timeframe`: Use a time frame of one day.\n",
    "\n",
    "    - `start_date` and `end_date`: Use the same date for these parameters, and format them with the date of the previous weekday (or `2020-08-07`). This is because you want the one closing price for the most-recent trading day.\n",
    "\n",
    "4. Get the current closing prices for `SPY` and `AGG` by using the Alpaca `get_barset` function. Format the response as a Pandas DataFrame by including the `df` property at the end of the `get_barset` function.\n",
    "\n",
    "5. Navigating the Alpaca response DataFrame, select the `SPY` and `AGG` closing prices, and store them as variables.\n",
    "\n",
    "6. Calculate the value, in US dollars, of the current amount of shares in each of the stock and bond portions of the portfolio, and print the results.\n"
   ]
  },
  {
   "cell_type": "markdown",
   "metadata": {},
   "source": [
    "#### Review the total number of shares held in both (SPY) and (AGG)."
   ]
  },
  {
   "cell_type": "code",
   "execution_count": 31,
   "metadata": {},
   "outputs": [],
   "source": [
    "# Current amount of shares held in both the stock (SPY) and bond (AGG) portion of the portfolio.\n",
    "spy_shares = 110\n",
    "agg_shares = 200\n"
   ]
  },
  {
   "cell_type": "markdown",
   "metadata": {},
   "source": [
    "#### Step 1: In the `Starter_Code` folder, create an environment file (`.env`) to store the values of your Alpaca API key and Alpaca secret key."
   ]
  },
  {
   "cell_type": "markdown",
   "metadata": {},
   "source": [
    "#### Step 2: Set the variables for the Alpaca API and secret keys. Using the Alpaca SDK, create the Alpaca `tradeapi.REST` object. In this object, include the parameters for the Alpaca API key, the secret key, and the version number."
   ]
  },
  {
   "cell_type": "code",
   "execution_count": 32,
   "metadata": {},
   "outputs": [],
   "source": [
    "# Set the variables for the Alpaca API and secret keys\n",
    "ALPACA_API_KEY = os.getenv(\"ALPACA_API_KEY\") \n",
    "ALPACA_SECRET_KEY = os.getenv(\"ALPACA_SECRET_KEY\") \n",
    "\n",
    "# Create the Alpaca tradeapi.REST object\n",
    "Alpaca = tradeapi.REST(ALPACA_API_KEY,ALPACA_SECRET_KEY,api_version = \"v2\")"
   ]
  },
  {
   "cell_type": "markdown",
   "metadata": {},
   "source": [
    "#### Step 3: Set the following parameters for the Alpaca API call:\n",
    "\n",
    "- `tickers`: Use the tickers for the member’s stock and bond holdings.\n",
    "\n",
    "- `timeframe`: Use a time frame of one day.\n",
    "\n",
    "- `start_date` and `end_date`: Use the same date for these parameters, and format them with the date of the previous weekday (or `2020-08-07`). This is because you want the one closing price for the most-recent trading day.\n"
   ]
  },
  {
   "cell_type": "code",
   "execution_count": 35,
   "metadata": {},
   "outputs": [],
   "source": [
    "# Set the tickers for both the bond and stock portion of the portfolio\n",
    "tickers = [\"AGG\", \"SPY\"]\n",
    "\n",
    "# Set timeframe to 1D \n",
    "timeframe = \"1D\"\n",
    "\n",
    "# Format current date as ISO format\n",
    "# Set both the start and end date at the date of your prior weekday \n",
    "# This will give you the closing price of the previous trading day\n",
    "# Alternatively you can use a start and end date of 2020-08-07\n",
    "start_date = pd.Timestamp(\"2020-08-07\", tz=\"America/New_York\").isoformat()\n",
    "end_date = pd.Timestamp(\"2020-08-07\", tz=\"America/New_York\").isoformat()\n"
   ]
  },
  {
   "cell_type": "markdown",
   "metadata": {},
   "source": [
    "#### Step 4: Get the current closing prices for `SPY` and `AGG` by using the Alpaca `get_barset` function. Format the response as a Pandas DataFrame by including the `df` property at the end of the `get_barset` function."
   ]
  },
  {
   "cell_type": "code",
   "execution_count": 36,
   "metadata": {},
   "outputs": [
    {
     "data": {
      "text/html": [
       "<div>\n",
       "<style scoped>\n",
       "    .dataframe tbody tr th:only-of-type {\n",
       "        vertical-align: middle;\n",
       "    }\n",
       "\n",
       "    .dataframe tbody tr th {\n",
       "        vertical-align: top;\n",
       "    }\n",
       "\n",
       "    .dataframe thead tr th {\n",
       "        text-align: left;\n",
       "    }\n",
       "\n",
       "    .dataframe thead tr:last-of-type th {\n",
       "        text-align: right;\n",
       "    }\n",
       "</style>\n",
       "<table border=\"1\" class=\"dataframe\">\n",
       "  <thead>\n",
       "    <tr>\n",
       "      <th></th>\n",
       "      <th colspan=\"5\" halign=\"left\">AGG</th>\n",
       "      <th colspan=\"5\" halign=\"left\">SPY</th>\n",
       "    </tr>\n",
       "    <tr>\n",
       "      <th></th>\n",
       "      <th>open</th>\n",
       "      <th>high</th>\n",
       "      <th>low</th>\n",
       "      <th>close</th>\n",
       "      <th>volume</th>\n",
       "      <th>open</th>\n",
       "      <th>high</th>\n",
       "      <th>low</th>\n",
       "      <th>close</th>\n",
       "      <th>volume</th>\n",
       "    </tr>\n",
       "    <tr>\n",
       "      <th>time</th>\n",
       "      <th></th>\n",
       "      <th></th>\n",
       "      <th></th>\n",
       "      <th></th>\n",
       "      <th></th>\n",
       "      <th></th>\n",
       "      <th></th>\n",
       "      <th></th>\n",
       "      <th></th>\n",
       "      <th></th>\n",
       "    </tr>\n",
       "  </thead>\n",
       "  <tbody>\n",
       "    <tr>\n",
       "      <th>2020-08-07 00:00:00-04:00</th>\n",
       "      <td>119.66</td>\n",
       "      <td>119.73</td>\n",
       "      <td>119.395</td>\n",
       "      <td>119.445</td>\n",
       "      <td>8830420</td>\n",
       "      <td>333.28</td>\n",
       "      <td>334.88</td>\n",
       "      <td>332.3</td>\n",
       "      <td>334.55</td>\n",
       "      <td>98710236</td>\n",
       "    </tr>\n",
       "  </tbody>\n",
       "</table>\n",
       "</div>"
      ],
      "text/plain": [
       "                              AGG                                        SPY  \\\n",
       "                             open    high      low    close   volume    open   \n",
       "time                                                                           \n",
       "2020-08-07 00:00:00-04:00  119.66  119.73  119.395  119.445  8830420  333.28   \n",
       "\n",
       "                                                            \n",
       "                             high    low   close    volume  \n",
       "time                                                        \n",
       "2020-08-07 00:00:00-04:00  334.88  332.3  334.55  98710236  "
      ]
     },
     "execution_count": 36,
     "metadata": {},
     "output_type": "execute_result"
    }
   ],
   "source": [
    "# Use the Alpaca get_barset function to get current closing prices the portfolio\n",
    "# Be sure to set the `df` property after the function to format the response object as a DataFrame\n",
    "portfolio_df = Alpaca.get_barset(\n",
    "    tickers,\n",
    "    timeframe,\n",
    "    start = start_date,\n",
    "    end = end_date\n",
    ").df\n",
    "\n",
    "# Review the first 5 rows of the Alpaca DataFrame\n",
    "portfolio_df.head()\n"
   ]
  },
  {
   "cell_type": "markdown",
   "metadata": {},
   "source": [
    "#### Step 5: Navigating the Alpaca response DataFrame, select the `SPY` and `AGG` closing prices, and store them as variables."
   ]
  },
  {
   "cell_type": "code",
   "execution_count": 82,
   "metadata": {},
   "outputs": [
    {
     "data": {
      "text/plain": [
       "119.445"
      ]
     },
     "execution_count": 82,
     "metadata": {},
     "output_type": "execute_result"
    }
   ],
   "source": [
    "# Access the closing price for AGG from the Alpaca DataFrame\n",
    "# Converting the value to a floating point number\n",
    "agg_close_price = float(portfolio_df[\"AGG\"][\"close\"])\n",
    "\n",
    "# Print the AGG closing price\n",
    "\n",
    "agg_close_price"
   ]
  },
  {
   "cell_type": "code",
   "execution_count": 83,
   "metadata": {},
   "outputs": [
    {
     "data": {
      "text/plain": [
       "334.55"
      ]
     },
     "execution_count": 83,
     "metadata": {},
     "output_type": "execute_result"
    }
   ],
   "source": [
    "# Access the closing price for SPY from the Alpaca DataFrame\n",
    "# Converting the value to a floating point number\n",
    "spy_close_price = float(portfolio_df[\"SPY\"][\"close\"])\n",
    "\n",
    "# Print the SPY closing price\n",
    "spy_close_price\n"
   ]
  },
  {
   "cell_type": "markdown",
   "metadata": {},
   "source": [
    "#### Step 6: Calculate the value, in US dollars, of the current amount of shares in each of the stock and bond portions of the portfolio, and print the results."
   ]
  },
  {
   "cell_type": "code",
   "execution_count": 84,
   "metadata": {},
   "outputs": [
    {
     "data": {
      "text/plain": [
       "23889.0"
      ]
     },
     "execution_count": 84,
     "metadata": {},
     "output_type": "execute_result"
    }
   ],
   "source": [
    "# Calculate the current value of the bond portion of the portfolio\n",
    "agg_value = agg_shares*agg_close_price\n",
    "\n",
    "# Print the current value of the bond portfolio\n",
    "agg_value\n"
   ]
  },
  {
   "cell_type": "code",
   "execution_count": 85,
   "metadata": {},
   "outputs": [
    {
     "data": {
      "text/plain": [
       "36800.5"
      ]
     },
     "execution_count": 85,
     "metadata": {},
     "output_type": "execute_result"
    }
   ],
   "source": [
    "# Calculate the current value of the stock portion of the portfolio\n",
    "spy_value = spy_shares*spy_close_price\n",
    "\n",
    "# Print the current value of the stock portfolio\n",
    "spy_value\n"
   ]
  },
  {
   "cell_type": "code",
   "execution_count": 43,
   "metadata": {},
   "outputs": [
    {
     "data": {
      "text/plain": [
       "time\n",
       "2020-08-07 00:00:00-04:00    60689.5\n",
       "Name: close, dtype: float64"
      ]
     },
     "execution_count": 43,
     "metadata": {},
     "output_type": "execute_result"
    }
   ],
   "source": [
    "# Calculate the total value of the stock and bond portion of the portfolio\n",
    "total_stocks_bonds = spy_value + agg_value\n",
    "\n",
    "# Print the current balance of the stock and bond portion of the portfolio\n",
    "total_stocks_bonds\n"
   ]
  },
  {
   "cell_type": "code",
   "execution_count": 87,
   "metadata": {},
   "outputs": [
    {
     "data": {
      "text/plain": [
       "123257.606"
      ]
     },
     "execution_count": 87,
     "metadata": {},
     "output_type": "execute_result"
    }
   ],
   "source": [
    "# Calculate the total value of the member's entire savings portfolio\n",
    "# Add the value of the cryptocurrency walled to the value of the total stocks and bonds\n",
    "total_portfolio = float(total_stocks_bonds+ total_crypto_wallet)\n",
    "\n",
    "# Print current cryptocurrency wallet balance\n",
    "total_portfolio\n"
   ]
  },
  {
   "cell_type": "markdown",
   "metadata": {},
   "source": [
    "### Evaluate the Emergency Fund\n",
    "\n",
    "In this section, you’ll use the valuations for the cryptocurrency wallet and for the stock and bond portions of the portfolio to determine if the credit union member has enough savings to build an emergency fund into their financial plan. To do this, complete the following steps:\n",
    "\n",
    "1. Create a Python list named `savings_data` that has two elements. The first element contains the total value of the cryptocurrency wallet. The second element contains the total value of the stock and bond portions of the portfolio.\n",
    "\n",
    "2. Use the `savings_data` list to create a Pandas DataFrame named `savings_df`, and then display this DataFrame. The function to create the DataFrame should take the following three parameters:\n",
    "\n",
    "    - `savings_data`: Use the list that you just created.\n",
    "\n",
    "    - `columns`: Set this parameter equal to a Python list with a single value called `amount`.\n",
    "\n",
    "    - `index`: Set this parameter equal to a Python list with the values of `crypto` and `stock/bond`.\n",
    "\n",
    "3. Use the `savings_df` DataFrame to plot a pie chart that visualizes the composition of the member’s portfolio. The y-axis of the pie chart uses `amount`. Be sure to add a title.\n",
    "\n",
    "4. Using Python, determine if the current portfolio has enough to create an emergency fund as part of the member’s financial plan. Ideally, an emergency fund should equal to three times the member’s monthly income. To do this, implement the following steps:\n",
    "\n",
    "    1. Create a variable named `emergency_fund_value`, and set it equal to three times the value of the member’s `monthly_income` of $12000. (You set this earlier in Part 1).\n",
    "\n",
    "    2. Create a series of three if statements to determine if the member’s total portfolio is large enough to fund the emergency portfolio:\n",
    "\n",
    "        1. If the total portfolio value is greater than the emergency fund value, display a message congratulating the member for having enough money in this fund.\n",
    "\n",
    "        2. Else if the total portfolio value is equal to the emergency fund value, display a message congratulating the member on reaching this important financial goal.\n",
    "\n",
    "        3. Else the total portfolio is less than the emergency fund value, so display a message showing how many dollars away the member is from reaching the goal. (Subtract the total portfolio value from the emergency fund value.)\n"
   ]
  },
  {
   "cell_type": "markdown",
   "metadata": {},
   "source": [
    "#### Step 1: Create a Python list named `savings_data` that has two elements. The first element contains the total value of the cryptocurrency wallet. The second element contains the total value of the stock and bond portions of the portfolio."
   ]
  },
  {
   "cell_type": "code",
   "execution_count": 49,
   "metadata": {},
   "outputs": [
    {
     "data": {
      "text/plain": [
       "[62568.106, 60689.5]"
      ]
     },
     "execution_count": 49,
     "metadata": {},
     "output_type": "execute_result"
    }
   ],
   "source": [
    "# Consolidate financial assets data into a Python list\n",
    "savings_data = [total_crypto_wallet,total_stocks_bonds.values[0]]\n",
    "\n",
    "# Review the Python list savings_data\n",
    "savings_data\n",
    "    "
   ]
  },
  {
   "cell_type": "markdown",
   "metadata": {},
   "source": [
    "#### Step 2: Use the `savings_data` list to create a Pandas DataFrame named `savings_df`, and then display this DataFrame. The function to create the DataFrame should take the following three parameters:\n",
    "\n",
    "- `savings_data`: Use the list that you just created.\n",
    "\n",
    "- `columns`: Set this parameter equal to a Python list with a single value called `amount`.\n",
    "\n",
    "- `index`: Set this parameter equal to a Python list with the values of `crypto` and `stock/bond`.\n"
   ]
  },
  {
   "cell_type": "code",
   "execution_count": 53,
   "metadata": {},
   "outputs": [
    {
     "data": {
      "text/html": [
       "<div>\n",
       "<style scoped>\n",
       "    .dataframe tbody tr th:only-of-type {\n",
       "        vertical-align: middle;\n",
       "    }\n",
       "\n",
       "    .dataframe tbody tr th {\n",
       "        vertical-align: top;\n",
       "    }\n",
       "\n",
       "    .dataframe thead th {\n",
       "        text-align: right;\n",
       "    }\n",
       "</style>\n",
       "<table border=\"1\" class=\"dataframe\">\n",
       "  <thead>\n",
       "    <tr style=\"text-align: right;\">\n",
       "      <th></th>\n",
       "      <th>amounts</th>\n",
       "    </tr>\n",
       "  </thead>\n",
       "  <tbody>\n",
       "    <tr>\n",
       "      <th>crypto</th>\n",
       "      <td>62568.106</td>\n",
       "    </tr>\n",
       "    <tr>\n",
       "      <th>stock/bond</th>\n",
       "      <td>60689.500</td>\n",
       "    </tr>\n",
       "  </tbody>\n",
       "</table>\n",
       "</div>"
      ],
      "text/plain": [
       "              amounts\n",
       "crypto      62568.106\n",
       "stock/bond  60689.500"
      ]
     },
     "execution_count": 53,
     "metadata": {},
     "output_type": "execute_result"
    }
   ],
   "source": [
    "# Create a Pandas DataFrame called savings_df \n",
    "savings_df = pd.DataFrame(data=savings_data, columns= [\"amounts\"],index = [\"crypto\",\"stock/bond\"])\n",
    "\n",
    "# Display the savings_df DataFrame\n",
    "savings_df\n"
   ]
  },
  {
   "cell_type": "markdown",
   "metadata": {},
   "source": [
    "#### Step 3: Use the `savings_df` DataFrame to plot a pie chart that visualizes the composition of the member’s portfolio. The y-axis of the pie chart uses `amount`. Be sure to add a title."
   ]
  },
  {
   "cell_type": "code",
   "execution_count": 56,
   "metadata": {},
   "outputs": [
    {
     "data": {
      "text/plain": [
       "<AxesSubplot:title={'center':'Total Value of the Members Portfolio'}, ylabel='amounts'>"
      ]
     },
     "execution_count": 56,
     "metadata": {},
     "output_type": "execute_result"
    },
    {
     "data": {
      "image/png": "[encoded data removed]",
      "text/plain": [
       "<Figure size 432x288 with 1 Axes>"
      ]
     },
     "metadata": {},
     "output_type": "display_data"
    }
   ],
   "source": [
    "# Plot the total value of the member's portfolio (crypto and stock/bond) in a pie chart\n",
    "savings_df.plot.pie(y = \"amounts\", title = \"Total Value of the Members Portfolio\")\n",
    "    \n"
   ]
  },
  {
   "cell_type": "markdown",
   "metadata": {},
   "source": [
    "#### Step 4: Using Python, determine if the current portfolio has enough to create an emergency fund as part of the member’s financial plan. Ideally, an emergency fund should equal to three times the member’s monthly income. To do this, implement the following steps:\n",
    "\n",
    "Step 1. Create a variable named `emergency_fund_value`, and set it equal to three times the value of the member’s `monthly_income` of 12000. (You set this earlier in Part 1).\n",
    "\n",
    "Step 2. Create a series of three if statements to determine if the member’s total portfolio is large enough to fund the emergency portfolio:\n",
    "\n",
    "* If the total portfolio value is greater than the emergency fund value, display a message congratulating the member for having enough money in this fund.\n",
    "\n",
    "* Else if the total portfolio value is equal to the emergency fund value, display a message congratulating the member on reaching this important financial goal.\n",
    "\n",
    "* Else the total portfolio is less than the emergency fund value, so display a message showing how many dollars away the member is from reaching the goal. (Subtract the total portfolio value from the emergency fund value.)\n"
   ]
  },
  {
   "cell_type": "markdown",
   "metadata": {},
   "source": [
    "##### Step 4-1: Create a variable named `emergency_fund_value`, and set it equal to three times the value of the member’s `monthly_income` of 12000. (You set this earlier in Part 1)."
   ]
  },
  {
   "cell_type": "code",
   "execution_count": 63,
   "metadata": {},
   "outputs": [
    {
     "data": {
      "text/plain": [
       "36000"
      ]
     },
     "execution_count": 63,
     "metadata": {},
     "output_type": "execute_result"
    }
   ],
   "source": [
    "# Create a variable named emergency_fund_value\n",
    "emergency_fund_value = monthly_income *3\n",
    "emergency_fund_value"
   ]
  },
  {
   "cell_type": "markdown",
   "metadata": {},
   "source": [
    "##### Step 4-2: Create a series of three if statements to determine if the member’s total portfolio is large enough to fund the emergency portfolio:\n",
    "\n",
    "* If the total portfolio value is greater than the emergency fund value, display a message congratulating the member for having enough money in this fund.\n",
    "\n",
    "* Else if the total portfolio value is equal to the emergency fund value, display a message congratulating the member on reaching this important financial goal.\n",
    "\n",
    "* Else the total portfolio is less than the emergency fund value, so display a message showing how many dollars away the member is from reaching the goal. (Subtract the total portfolio value from the emergency fund value.)"
   ]
  },
  {
   "cell_type": "code",
   "execution_count": 88,
   "metadata": {},
   "outputs": [
    {
     "name": "stdout",
     "output_type": "stream",
     "text": [
      "Congadulations on having enough money for the fund.\n"
     ]
    }
   ],
   "source": [
    "# Evaluate the possibility of creating an emergency fund with 3 conditions:\n",
    "if total_portfolio > emergency_fund_value:\n",
    "    print(\"Congadulations on having enough money for the fund.\")\n",
    "elif total_portfolio == emergency_fund_value:\n",
    "    print(\"Congradulation on reaching your financial goal\")\n",
    "else:\n",
    "    print(f\"You have {(total_portfolio - emergency_fund_value)} ammount until meeting your financial goal\")"
   ]
  },
  {
   "cell_type": "markdown",
   "metadata": {},
   "source": [
    "## Part 2: Create a Financial Planner for Retirement"
   ]
  },
  {
   "cell_type": "markdown",
   "metadata": {},
   "source": [
    "### Create the Monte Carlo Simulation\n",
    "\n",
    "In this section, you’ll use the MCForecastTools library to create a Monte Carlo simulation for the member’s savings portfolio. To do this, complete the following steps:\n",
    "\n",
    "1. Make an API call via the Alpaca SDK to get 10 years of historical closing prices for a traditional 60/40 portfolio split: 60% stocks (SPY) and 40% bonds (AGG).\n",
    "\n",
    "2. Run a Monte Carlo simulation of 500 samples and 30 years for the 60/40 portfolio, and then plot the results.The following image shows the overlay line plot resulting from a simulation with these characteristics. However, because a random number generator is used to run each live Monte Carlo simulation, your image will differ slightly from this exact image:\n",
    "\n",
    "![A screenshot depicts the resulting plot.](Images/5-4-monte-carlo-line-plot.png)\n",
    "\n",
    "3. Plot the probability distribution of the Monte Carlo simulation. Plot the probability distribution of the Monte Carlo simulation. The following image shows the histogram plot resulting from a simulation with these characteristics. However, because a random number generator is used to run each live Monte Carlo simulation, your image will differ slightly from this exact image:\n",
    "\n",
    "![A screenshot depicts the histogram plot.](Images/5-4-monte-carlo-histogram.png)\n",
    "\n",
    "4. Generate the summary statistics for the Monte Carlo simulation.\n",
    "\n"
   ]
  },
  {
   "cell_type": "markdown",
   "metadata": {},
   "source": [
    "#### Step 1: Make an API call via the Alpaca SDK to get 10 years of historical closing prices for a traditional 60/40 portfolio split: 60% stocks (SPY) and 40% bonds (AGG)."
   ]
  },
  {
   "cell_type": "code",
   "execution_count": 151,
   "metadata": {},
   "outputs": [],
   "source": [
    "# Set start and end dates of 10 years back from your current date\n",
    "# Alternatively, you can use an end date of 2020-08-07 and work 10 years back from that date \n",
    "start_date = pd.Timestamp(\"2010-08-07\", tz=\"America/New_York\").isoformat()\n",
    "end_date = pd.Timestamp(\"2020-08-07\", tz=\"America/New_York\").isoformat()\n",
    "limit_rows = 1000\n",
    "\n"
   ]
  },
  {
   "cell_type": "code",
   "execution_count": 152,
   "metadata": {},
   "outputs": [
    {
     "data": {
      "text/html": [
       "<div>\n",
       "<style scoped>\n",
       "    .dataframe tbody tr th:only-of-type {\n",
       "        vertical-align: middle;\n",
       "    }\n",
       "\n",
       "    .dataframe tbody tr th {\n",
       "        vertical-align: top;\n",
       "    }\n",
       "\n",
       "    .dataframe thead tr th {\n",
       "        text-align: left;\n",
       "    }\n",
       "\n",
       "    .dataframe thead tr:last-of-type th {\n",
       "        text-align: right;\n",
       "    }\n",
       "</style>\n",
       "<table border=\"1\" class=\"dataframe\">\n",
       "  <thead>\n",
       "    <tr>\n",
       "      <th></th>\n",
       "      <th colspan=\"5\" halign=\"left\">AGG</th>\n",
       "      <th colspan=\"5\" halign=\"left\">SPY</th>\n",
       "    </tr>\n",
       "    <tr>\n",
       "      <th></th>\n",
       "      <th>open</th>\n",
       "      <th>high</th>\n",
       "      <th>low</th>\n",
       "      <th>close</th>\n",
       "      <th>volume</th>\n",
       "      <th>open</th>\n",
       "      <th>high</th>\n",
       "      <th>low</th>\n",
       "      <th>close</th>\n",
       "      <th>volume</th>\n",
       "    </tr>\n",
       "    <tr>\n",
       "      <th>time</th>\n",
       "      <th></th>\n",
       "      <th></th>\n",
       "      <th></th>\n",
       "      <th></th>\n",
       "      <th></th>\n",
       "      <th></th>\n",
       "      <th></th>\n",
       "      <th></th>\n",
       "      <th></th>\n",
       "      <th></th>\n",
       "    </tr>\n",
       "  </thead>\n",
       "  <tbody>\n",
       "    <tr>\n",
       "      <th>2016-08-18 00:00:00-04:00</th>\n",
       "      <td>112.64</td>\n",
       "      <td>112.7799</td>\n",
       "      <td>112.5350</td>\n",
       "      <td>112.705</td>\n",
       "      <td>1814107</td>\n",
       "      <td>218.33</td>\n",
       "      <td>218.90</td>\n",
       "      <td>218.21</td>\n",
       "      <td>218.87</td>\n",
       "      <td>42850145</td>\n",
       "    </tr>\n",
       "    <tr>\n",
       "      <th>2016-08-19 00:00:00-04:00</th>\n",
       "      <td>112.53</td>\n",
       "      <td>112.6200</td>\n",
       "      <td>112.3900</td>\n",
       "      <td>112.490</td>\n",
       "      <td>2961016</td>\n",
       "      <td>218.31</td>\n",
       "      <td>218.75</td>\n",
       "      <td>217.74</td>\n",
       "      <td>218.57</td>\n",
       "      <td>52238224</td>\n",
       "    </tr>\n",
       "    <tr>\n",
       "      <th>2016-08-22 00:00:00-04:00</th>\n",
       "      <td>112.66</td>\n",
       "      <td>112.7380</td>\n",
       "      <td>112.5600</td>\n",
       "      <td>112.650</td>\n",
       "      <td>1647564</td>\n",
       "      <td>218.27</td>\n",
       "      <td>218.80</td>\n",
       "      <td>217.83</td>\n",
       "      <td>218.50</td>\n",
       "      <td>48628907</td>\n",
       "    </tr>\n",
       "    <tr>\n",
       "      <th>2016-08-23 00:00:00-04:00</th>\n",
       "      <td>112.78</td>\n",
       "      <td>112.8250</td>\n",
       "      <td>112.6301</td>\n",
       "      <td>112.690</td>\n",
       "      <td>2197732</td>\n",
       "      <td>219.25</td>\n",
       "      <td>219.60</td>\n",
       "      <td>218.90</td>\n",
       "      <td>218.94</td>\n",
       "      <td>41981207</td>\n",
       "    </tr>\n",
       "    <tr>\n",
       "      <th>2016-08-24 00:00:00-04:00</th>\n",
       "      <td>112.79</td>\n",
       "      <td>112.8000</td>\n",
       "      <td>112.6290</td>\n",
       "      <td>112.660</td>\n",
       "      <td>2071970</td>\n",
       "      <td>218.82</td>\n",
       "      <td>218.91</td>\n",
       "      <td>217.36</td>\n",
       "      <td>217.88</td>\n",
       "      <td>50310103</td>\n",
       "    </tr>\n",
       "  </tbody>\n",
       "</table>\n",
       "</div>"
      ],
      "text/plain": [
       "                              AGG                                        \\\n",
       "                             open      high       low    close   volume   \n",
       "time                                                                      \n",
       "2016-08-18 00:00:00-04:00  112.64  112.7799  112.5350  112.705  1814107   \n",
       "2016-08-19 00:00:00-04:00  112.53  112.6200  112.3900  112.490  2961016   \n",
       "2016-08-22 00:00:00-04:00  112.66  112.7380  112.5600  112.650  1647564   \n",
       "2016-08-23 00:00:00-04:00  112.78  112.8250  112.6301  112.690  2197732   \n",
       "2016-08-24 00:00:00-04:00  112.79  112.8000  112.6290  112.660  2071970   \n",
       "\n",
       "                              SPY                                    \n",
       "                             open    high     low   close    volume  \n",
       "time                                                                 \n",
       "2016-08-18 00:00:00-04:00  218.33  218.90  218.21  218.87  42850145  \n",
       "2016-08-19 00:00:00-04:00  218.31  218.75  217.74  218.57  52238224  \n",
       "2016-08-22 00:00:00-04:00  218.27  218.80  217.83  218.50  48628907  \n",
       "2016-08-23 00:00:00-04:00  219.25  219.60  218.90  218.94  41981207  \n",
       "2016-08-24 00:00:00-04:00  218.82  218.91  217.36  217.88  50310103  "
      ]
     },
     "metadata": {},
     "output_type": "display_data"
    },
    {
     "data": {
      "text/html": [
       "<div>\n",
       "<style scoped>\n",
       "    .dataframe tbody tr th:only-of-type {\n",
       "        vertical-align: middle;\n",
       "    }\n",
       "\n",
       "    .dataframe tbody tr th {\n",
       "        vertical-align: top;\n",
       "    }\n",
       "\n",
       "    .dataframe thead tr th {\n",
       "        text-align: left;\n",
       "    }\n",
       "\n",
       "    .dataframe thead tr:last-of-type th {\n",
       "        text-align: right;\n",
       "    }\n",
       "</style>\n",
       "<table border=\"1\" class=\"dataframe\">\n",
       "  <thead>\n",
       "    <tr>\n",
       "      <th></th>\n",
       "      <th colspan=\"5\" halign=\"left\">AGG</th>\n",
       "      <th colspan=\"5\" halign=\"left\">SPY</th>\n",
       "    </tr>\n",
       "    <tr>\n",
       "      <th></th>\n",
       "      <th>open</th>\n",
       "      <th>high</th>\n",
       "      <th>low</th>\n",
       "      <th>close</th>\n",
       "      <th>volume</th>\n",
       "      <th>open</th>\n",
       "      <th>high</th>\n",
       "      <th>low</th>\n",
       "      <th>close</th>\n",
       "      <th>volume</th>\n",
       "    </tr>\n",
       "    <tr>\n",
       "      <th>time</th>\n",
       "      <th></th>\n",
       "      <th></th>\n",
       "      <th></th>\n",
       "      <th></th>\n",
       "      <th></th>\n",
       "      <th></th>\n",
       "      <th></th>\n",
       "      <th></th>\n",
       "      <th></th>\n",
       "      <th></th>\n",
       "    </tr>\n",
       "  </thead>\n",
       "  <tbody>\n",
       "    <tr>\n",
       "      <th>2020-08-03 00:00:00-04:00</th>\n",
       "      <td>119.37</td>\n",
       "      <td>119.40</td>\n",
       "      <td>119.1903</td>\n",
       "      <td>119.400</td>\n",
       "      <td>24615464</td>\n",
       "      <td>328.3200</td>\n",
       "      <td>329.62</td>\n",
       "      <td>327.73</td>\n",
       "      <td>328.76</td>\n",
       "      <td>89861354</td>\n",
       "    </tr>\n",
       "    <tr>\n",
       "      <th>2020-08-04 00:00:00-04:00</th>\n",
       "      <td>119.42</td>\n",
       "      <td>119.63</td>\n",
       "      <td>119.4200</td>\n",
       "      <td>119.630</td>\n",
       "      <td>21512268</td>\n",
       "      <td>327.8600</td>\n",
       "      <td>330.06</td>\n",
       "      <td>327.86</td>\n",
       "      <td>330.03</td>\n",
       "      <td>73684427</td>\n",
       "    </tr>\n",
       "    <tr>\n",
       "      <th>2020-08-05 00:00:00-04:00</th>\n",
       "      <td>119.39</td>\n",
       "      <td>119.49</td>\n",
       "      <td>119.3100</td>\n",
       "      <td>119.400</td>\n",
       "      <td>34239733</td>\n",
       "      <td>331.4700</td>\n",
       "      <td>332.39</td>\n",
       "      <td>331.18</td>\n",
       "      <td>332.06</td>\n",
       "      <td>72941562</td>\n",
       "    </tr>\n",
       "    <tr>\n",
       "      <th>2020-08-06 00:00:00-04:00</th>\n",
       "      <td>119.62</td>\n",
       "      <td>119.73</td>\n",
       "      <td>119.5300</td>\n",
       "      <td>119.580</td>\n",
       "      <td>9021388</td>\n",
       "      <td>331.4799</td>\n",
       "      <td>334.46</td>\n",
       "      <td>331.13</td>\n",
       "      <td>334.31</td>\n",
       "      <td>76988181</td>\n",
       "    </tr>\n",
       "    <tr>\n",
       "      <th>2020-08-07 00:00:00-04:00</th>\n",
       "      <td>119.66</td>\n",
       "      <td>119.73</td>\n",
       "      <td>119.3950</td>\n",
       "      <td>119.445</td>\n",
       "      <td>8830420</td>\n",
       "      <td>333.2800</td>\n",
       "      <td>334.88</td>\n",
       "      <td>332.30</td>\n",
       "      <td>334.55</td>\n",
       "      <td>98710236</td>\n",
       "    </tr>\n",
       "  </tbody>\n",
       "</table>\n",
       "</div>"
      ],
      "text/plain": [
       "                              AGG                                       \\\n",
       "                             open    high       low    close    volume   \n",
       "time                                                                     \n",
       "2020-08-03 00:00:00-04:00  119.37  119.40  119.1903  119.400  24615464   \n",
       "2020-08-04 00:00:00-04:00  119.42  119.63  119.4200  119.630  21512268   \n",
       "2020-08-05 00:00:00-04:00  119.39  119.49  119.3100  119.400  34239733   \n",
       "2020-08-06 00:00:00-04:00  119.62  119.73  119.5300  119.580   9021388   \n",
       "2020-08-07 00:00:00-04:00  119.66  119.73  119.3950  119.445   8830420   \n",
       "\n",
       "                                SPY                                    \n",
       "                               open    high     low   close    volume  \n",
       "time                                                                   \n",
       "2020-08-03 00:00:00-04:00  328.3200  329.62  327.73  328.76  89861354  \n",
       "2020-08-04 00:00:00-04:00  327.8600  330.06  327.86  330.03  73684427  \n",
       "2020-08-05 00:00:00-04:00  331.4700  332.39  331.18  332.06  72941562  \n",
       "2020-08-06 00:00:00-04:00  331.4799  334.46  331.13  334.31  76988181  \n",
       "2020-08-07 00:00:00-04:00  333.2800  334.88  332.30  334.55  98710236  "
      ]
     },
     "metadata": {},
     "output_type": "display_data"
    }
   ],
   "source": [
    "# Use the Alpaca get_barset function to make the API call to get the 10 years worth of pricing data\n",
    "# The tickers and timeframe parameters should have been set in Part 1 of this activity \n",
    "# The start and end dates should be updated with the information set above\n",
    "# Remember to add the df property to the end of the call so the response is returned as a DataFrame\n",
    "tickers=[\"AGG\",\"SPY\"]\n",
    "portfolio_ten_years_df = Alpaca.get_barset(\n",
    "    tickers,\n",
    "    timeframe,\n",
    "    start = start_date,\n",
    "    end = end_date,\n",
    "    limit = limit_rows\n",
    ").df\n",
    "\n",
    "\n",
    "# Display both the first and last five rows of the DataFrame\n",
    "display(portfolio_ten_years_df.head())\n",
    "\n",
    "display(portfolio_ten_years_df.tail())\n",
    "\n"
   ]
  },
  {
   "cell_type": "markdown",
   "metadata": {},
   "source": [
    "#### Step 2: Run a Monte Carlo simulation of 500 samples and 30 years for the 60/40 portfolio, and then plot the results."
   ]
  },
  {
   "cell_type": "code",
   "execution_count": 157,
   "metadata": {},
   "outputs": [
    {
     "data": {
      "text/html": [
       "<div>\n",
       "<style scoped>\n",
       "    .dataframe tbody tr th:only-of-type {\n",
       "        vertical-align: middle;\n",
       "    }\n",
       "\n",
       "    .dataframe tbody tr th {\n",
       "        vertical-align: top;\n",
       "    }\n",
       "\n",
       "    .dataframe thead tr th {\n",
       "        text-align: left;\n",
       "    }\n",
       "\n",
       "    .dataframe thead tr:last-of-type th {\n",
       "        text-align: right;\n",
       "    }\n",
       "</style>\n",
       "<table border=\"1\" class=\"dataframe\">\n",
       "  <thead>\n",
       "    <tr>\n",
       "      <th></th>\n",
       "      <th colspan=\"6\" halign=\"left\">AGG</th>\n",
       "      <th colspan=\"6\" halign=\"left\">SPY</th>\n",
       "    </tr>\n",
       "    <tr>\n",
       "      <th></th>\n",
       "      <th>open</th>\n",
       "      <th>high</th>\n",
       "      <th>low</th>\n",
       "      <th>close</th>\n",
       "      <th>volume</th>\n",
       "      <th>daily_return</th>\n",
       "      <th>open</th>\n",
       "      <th>high</th>\n",
       "      <th>low</th>\n",
       "      <th>close</th>\n",
       "      <th>volume</th>\n",
       "      <th>daily_return</th>\n",
       "    </tr>\n",
       "    <tr>\n",
       "      <th>time</th>\n",
       "      <th></th>\n",
       "      <th></th>\n",
       "      <th></th>\n",
       "      <th></th>\n",
       "      <th></th>\n",
       "      <th></th>\n",
       "      <th></th>\n",
       "      <th></th>\n",
       "      <th></th>\n",
       "      <th></th>\n",
       "      <th></th>\n",
       "      <th></th>\n",
       "    </tr>\n",
       "  </thead>\n",
       "  <tbody>\n",
       "    <tr>\n",
       "      <th>2016-08-18 00:00:00-04:00</th>\n",
       "      <td>112.64</td>\n",
       "      <td>112.7799</td>\n",
       "      <td>112.5350</td>\n",
       "      <td>112.705</td>\n",
       "      <td>1814107</td>\n",
       "      <td>NaN</td>\n",
       "      <td>218.33</td>\n",
       "      <td>218.90</td>\n",
       "      <td>218.21</td>\n",
       "      <td>218.87</td>\n",
       "      <td>42850145</td>\n",
       "      <td>NaN</td>\n",
       "    </tr>\n",
       "    <tr>\n",
       "      <th>2016-08-19 00:00:00-04:00</th>\n",
       "      <td>112.53</td>\n",
       "      <td>112.6200</td>\n",
       "      <td>112.3900</td>\n",
       "      <td>112.490</td>\n",
       "      <td>2961016</td>\n",
       "      <td>-0.001908</td>\n",
       "      <td>218.31</td>\n",
       "      <td>218.75</td>\n",
       "      <td>217.74</td>\n",
       "      <td>218.57</td>\n",
       "      <td>52238224</td>\n",
       "      <td>-0.001371</td>\n",
       "    </tr>\n",
       "    <tr>\n",
       "      <th>2016-08-22 00:00:00-04:00</th>\n",
       "      <td>112.66</td>\n",
       "      <td>112.7380</td>\n",
       "      <td>112.5600</td>\n",
       "      <td>112.650</td>\n",
       "      <td>1647564</td>\n",
       "      <td>0.001422</td>\n",
       "      <td>218.27</td>\n",
       "      <td>218.80</td>\n",
       "      <td>217.83</td>\n",
       "      <td>218.50</td>\n",
       "      <td>48628907</td>\n",
       "      <td>-0.000320</td>\n",
       "    </tr>\n",
       "    <tr>\n",
       "      <th>2016-08-23 00:00:00-04:00</th>\n",
       "      <td>112.78</td>\n",
       "      <td>112.8250</td>\n",
       "      <td>112.6301</td>\n",
       "      <td>112.690</td>\n",
       "      <td>2197732</td>\n",
       "      <td>0.000355</td>\n",
       "      <td>219.25</td>\n",
       "      <td>219.60</td>\n",
       "      <td>218.90</td>\n",
       "      <td>218.94</td>\n",
       "      <td>41981207</td>\n",
       "      <td>0.002014</td>\n",
       "    </tr>\n",
       "    <tr>\n",
       "      <th>2016-08-24 00:00:00-04:00</th>\n",
       "      <td>112.79</td>\n",
       "      <td>112.8000</td>\n",
       "      <td>112.6290</td>\n",
       "      <td>112.660</td>\n",
       "      <td>2071970</td>\n",
       "      <td>-0.000266</td>\n",
       "      <td>218.82</td>\n",
       "      <td>218.91</td>\n",
       "      <td>217.36</td>\n",
       "      <td>217.88</td>\n",
       "      <td>50310103</td>\n",
       "      <td>-0.004842</td>\n",
       "    </tr>\n",
       "  </tbody>\n",
       "</table>\n",
       "</div>"
      ],
      "text/plain": [
       "                              AGG                                        \\\n",
       "                             open      high       low    close   volume   \n",
       "time                                                                      \n",
       "2016-08-18 00:00:00-04:00  112.64  112.7799  112.5350  112.705  1814107   \n",
       "2016-08-19 00:00:00-04:00  112.53  112.6200  112.3900  112.490  2961016   \n",
       "2016-08-22 00:00:00-04:00  112.66  112.7380  112.5600  112.650  1647564   \n",
       "2016-08-23 00:00:00-04:00  112.78  112.8250  112.6301  112.690  2197732   \n",
       "2016-08-24 00:00:00-04:00  112.79  112.8000  112.6290  112.660  2071970   \n",
       "\n",
       "                                           SPY                          \\\n",
       "                          daily_return    open    high     low   close   \n",
       "time                                                                     \n",
       "2016-08-18 00:00:00-04:00          NaN  218.33  218.90  218.21  218.87   \n",
       "2016-08-19 00:00:00-04:00    -0.001908  218.31  218.75  217.74  218.57   \n",
       "2016-08-22 00:00:00-04:00     0.001422  218.27  218.80  217.83  218.50   \n",
       "2016-08-23 00:00:00-04:00     0.000355  219.25  219.60  218.90  218.94   \n",
       "2016-08-24 00:00:00-04:00    -0.000266  218.82  218.91  217.36  217.88   \n",
       "\n",
       "                                                  \n",
       "                             volume daily_return  \n",
       "time                                              \n",
       "2016-08-18 00:00:00-04:00  42850145          NaN  \n",
       "2016-08-19 00:00:00-04:00  52238224    -0.001371  \n",
       "2016-08-22 00:00:00-04:00  48628907    -0.000320  \n",
       "2016-08-23 00:00:00-04:00  41981207     0.002014  \n",
       "2016-08-24 00:00:00-04:00  50310103    -0.004842  "
      ]
     },
     "execution_count": 157,
     "metadata": {},
     "output_type": "execute_result"
    }
   ],
   "source": [
    "# Configure the Monte Carlo simulation to forecast 30 years cumulative returns\n",
    "# The weights should be split 40% to AGG and 60% to SPY.\n",
    "# Run 500 samples.\n",
    "\n",
    "\n",
    "\n",
    "thirty_year_simulation = MCSimulation(\n",
    "     portfolio_data = portfolio_ten_years_df,\n",
    "     weights = [0.40,0.60],\n",
    "     num_simulation=500,\n",
    "     num_trading_days= 252*30) \n",
    "\n",
    "# Review the simulation input data\n",
    "thirty_year_simulation.portfolio_data.head()\n"
   ]
  },
  {
   "cell_type": "code",
   "execution_count": 158,
   "metadata": {},
   "outputs": [
    {
     "name": "stdout",
     "output_type": "stream",
     "text": [
      "Running Monte Carlo simulation number 0.\n",
      "Running Monte Carlo simulation number 10.\n",
      "Running Monte Carlo simulation number 20.\n",
      "Running Monte Carlo simulation number 30.\n",
      "Running Monte Carlo simulation number 40.\n",
      "Running Monte Carlo simulation number 50.\n",
      "Running Monte Carlo simulation number 60.\n",
      "Running Monte Carlo simulation number 70.\n",
      "Running Monte Carlo simulation number 80.\n",
      "Running Monte Carlo simulation number 90.\n",
      "Running Monte Carlo simulation number 100.\n",
      "Running Monte Carlo simulation number 110.\n",
      "Running Monte Carlo simulation number 120.\n",
      "Running Monte Carlo simulation number 130.\n",
      "Running Monte Carlo simulation number 140.\n",
      "Running Monte Carlo simulation number 150.\n",
      "Running Monte Carlo simulation number 160.\n",
      "Running Monte Carlo simulation number 170.\n",
      "Running Monte Carlo simulation number 180.\n",
      "Running Monte Carlo simulation number 190.\n",
      "Running Monte Carlo simulation number 200.\n",
      "Running Monte Carlo simulation number 210.\n",
      "Running Monte Carlo simulation number 220.\n",
      "Running Monte Carlo simulation number 230.\n",
      "Running Monte Carlo simulation number 240.\n",
      "Running Monte Carlo simulation number 250.\n",
      "Running Monte Carlo simulation number 260.\n",
      "Running Monte Carlo simulation number 270.\n",
      "Running Monte Carlo simulation number 280.\n",
      "Running Monte Carlo simulation number 290.\n",
      "Running Monte Carlo simulation number 300.\n",
      "Running Monte Carlo simulation number 310.\n",
      "Running Monte Carlo simulation number 320.\n",
      "Running Monte Carlo simulation number 330.\n",
      "Running Monte Carlo simulation number 340.\n",
      "Running Monte Carlo simulation number 350.\n",
      "Running Monte Carlo simulation number 360.\n",
      "Running Monte Carlo simulation number 370.\n",
      "Running Monte Carlo simulation number 380.\n",
      "Running Monte Carlo simulation number 390.\n",
      "Running Monte Carlo simulation number 400.\n",
      "Running Monte Carlo simulation number 410.\n",
      "Running Monte Carlo simulation number 420.\n",
      "Running Monte Carlo simulation number 430.\n",
      "Running Monte Carlo simulation number 440.\n",
      "Running Monte Carlo simulation number 450.\n",
      "Running Monte Carlo simulation number 460.\n",
      "Running Monte Carlo simulation number 470.\n",
      "Running Monte Carlo simulation number 480.\n",
      "Running Monte Carlo simulation number 490.\n"
     ]
    },
    {
     "data": {
      "text/html": [
       "<div>\n",
       "<style scoped>\n",
       "    .dataframe tbody tr th:only-of-type {\n",
       "        vertical-align: middle;\n",
       "    }\n",
       "\n",
       "    .dataframe tbody tr th {\n",
       "        vertical-align: top;\n",
       "    }\n",
       "\n",
       "    .dataframe thead th {\n",
       "        text-align: right;\n",
       "    }\n",
       "</style>\n",
       "<table border=\"1\" class=\"dataframe\">\n",
       "  <thead>\n",
       "    <tr style=\"text-align: right;\">\n",
       "      <th></th>\n",
       "      <th>0</th>\n",
       "      <th>1</th>\n",
       "      <th>2</th>\n",
       "      <th>3</th>\n",
       "      <th>4</th>\n",
       "      <th>5</th>\n",
       "      <th>6</th>\n",
       "      <th>7</th>\n",
       "      <th>8</th>\n",
       "      <th>9</th>\n",
       "      <th>...</th>\n",
       "      <th>490</th>\n",
       "      <th>491</th>\n",
       "      <th>492</th>\n",
       "      <th>493</th>\n",
       "      <th>494</th>\n",
       "      <th>495</th>\n",
       "      <th>496</th>\n",
       "      <th>497</th>\n",
       "      <th>498</th>\n",
       "      <th>499</th>\n",
       "    </tr>\n",
       "  </thead>\n",
       "  <tbody>\n",
       "    <tr>\n",
       "      <th>0</th>\n",
       "      <td>1.000000</td>\n",
       "      <td>1.000000</td>\n",
       "      <td>1.000000</td>\n",
       "      <td>1.000000</td>\n",
       "      <td>1.000000</td>\n",
       "      <td>1.000000</td>\n",
       "      <td>1.000000</td>\n",
       "      <td>1.000000</td>\n",
       "      <td>1.000000</td>\n",
       "      <td>1.000000</td>\n",
       "      <td>...</td>\n",
       "      <td>1.000000</td>\n",
       "      <td>1.000000</td>\n",
       "      <td>1.000000</td>\n",
       "      <td>1.000000</td>\n",
       "      <td>1.000000</td>\n",
       "      <td>1.000000</td>\n",
       "      <td>1.000000</td>\n",
       "      <td>1.000000</td>\n",
       "      <td>1.000000</td>\n",
       "      <td>1.000000</td>\n",
       "    </tr>\n",
       "    <tr>\n",
       "      <th>1</th>\n",
       "      <td>1.001087</td>\n",
       "      <td>0.991860</td>\n",
       "      <td>1.001283</td>\n",
       "      <td>1.008792</td>\n",
       "      <td>1.007656</td>\n",
       "      <td>1.009940</td>\n",
       "      <td>1.003112</td>\n",
       "      <td>0.995595</td>\n",
       "      <td>0.997233</td>\n",
       "      <td>1.005807</td>\n",
       "      <td>...</td>\n",
       "      <td>0.997465</td>\n",
       "      <td>1.005878</td>\n",
       "      <td>1.002852</td>\n",
       "      <td>0.992556</td>\n",
       "      <td>0.994182</td>\n",
       "      <td>1.000372</td>\n",
       "      <td>0.992523</td>\n",
       "      <td>0.988127</td>\n",
       "      <td>0.994816</td>\n",
       "      <td>0.996206</td>\n",
       "    </tr>\n",
       "    <tr>\n",
       "      <th>2</th>\n",
       "      <td>1.005350</td>\n",
       "      <td>0.997151</td>\n",
       "      <td>0.991572</td>\n",
       "      <td>1.009169</td>\n",
       "      <td>0.995706</td>\n",
       "      <td>1.006495</td>\n",
       "      <td>1.000366</td>\n",
       "      <td>0.989013</td>\n",
       "      <td>0.987704</td>\n",
       "      <td>1.015197</td>\n",
       "      <td>...</td>\n",
       "      <td>0.998921</td>\n",
       "      <td>1.013298</td>\n",
       "      <td>1.014850</td>\n",
       "      <td>0.980490</td>\n",
       "      <td>0.990652</td>\n",
       "      <td>1.004372</td>\n",
       "      <td>0.986059</td>\n",
       "      <td>0.991619</td>\n",
       "      <td>0.993027</td>\n",
       "      <td>0.996816</td>\n",
       "    </tr>\n",
       "    <tr>\n",
       "      <th>3</th>\n",
       "      <td>0.998889</td>\n",
       "      <td>0.989355</td>\n",
       "      <td>0.984923</td>\n",
       "      <td>0.997801</td>\n",
       "      <td>0.989002</td>\n",
       "      <td>1.000556</td>\n",
       "      <td>1.004808</td>\n",
       "      <td>0.992382</td>\n",
       "      <td>0.989151</td>\n",
       "      <td>1.032004</td>\n",
       "      <td>...</td>\n",
       "      <td>0.995677</td>\n",
       "      <td>1.023899</td>\n",
       "      <td>1.021312</td>\n",
       "      <td>0.982120</td>\n",
       "      <td>0.991678</td>\n",
       "      <td>1.016861</td>\n",
       "      <td>1.000978</td>\n",
       "      <td>0.983897</td>\n",
       "      <td>0.994423</td>\n",
       "      <td>0.984740</td>\n",
       "    </tr>\n",
       "    <tr>\n",
       "      <th>4</th>\n",
       "      <td>0.998588</td>\n",
       "      <td>0.998863</td>\n",
       "      <td>0.993792</td>\n",
       "      <td>0.998883</td>\n",
       "      <td>0.990168</td>\n",
       "      <td>0.989240</td>\n",
       "      <td>1.002111</td>\n",
       "      <td>0.986997</td>\n",
       "      <td>0.994104</td>\n",
       "      <td>1.043222</td>\n",
       "      <td>...</td>\n",
       "      <td>1.001611</td>\n",
       "      <td>1.022648</td>\n",
       "      <td>1.032798</td>\n",
       "      <td>0.972812</td>\n",
       "      <td>0.988147</td>\n",
       "      <td>1.012551</td>\n",
       "      <td>1.002413</td>\n",
       "      <td>0.982927</td>\n",
       "      <td>0.989261</td>\n",
       "      <td>1.000148</td>\n",
       "    </tr>\n",
       "    <tr>\n",
       "      <th>...</th>\n",
       "      <td>...</td>\n",
       "      <td>...</td>\n",
       "      <td>...</td>\n",
       "      <td>...</td>\n",
       "      <td>...</td>\n",
       "      <td>...</td>\n",
       "      <td>...</td>\n",
       "      <td>...</td>\n",
       "      <td>...</td>\n",
       "      <td>...</td>\n",
       "      <td>...</td>\n",
       "      <td>...</td>\n",
       "      <td>...</td>\n",
       "      <td>...</td>\n",
       "      <td>...</td>\n",
       "      <td>...</td>\n",
       "      <td>...</td>\n",
       "      <td>...</td>\n",
       "      <td>...</td>\n",
       "      <td>...</td>\n",
       "      <td>...</td>\n",
       "    </tr>\n",
       "    <tr>\n",
       "      <th>7556</th>\n",
       "      <td>9.822352</td>\n",
       "      <td>3.161585</td>\n",
       "      <td>4.653328</td>\n",
       "      <td>9.152550</td>\n",
       "      <td>10.098797</td>\n",
       "      <td>6.459282</td>\n",
       "      <td>24.768763</td>\n",
       "      <td>2.958500</td>\n",
       "      <td>6.946575</td>\n",
       "      <td>10.561473</td>\n",
       "      <td>...</td>\n",
       "      <td>11.809102</td>\n",
       "      <td>5.452530</td>\n",
       "      <td>3.928768</td>\n",
       "      <td>28.053517</td>\n",
       "      <td>7.678124</td>\n",
       "      <td>5.679022</td>\n",
       "      <td>9.924917</td>\n",
       "      <td>24.564194</td>\n",
       "      <td>14.087064</td>\n",
       "      <td>2.086245</td>\n",
       "    </tr>\n",
       "    <tr>\n",
       "      <th>7557</th>\n",
       "      <td>9.743981</td>\n",
       "      <td>3.190548</td>\n",
       "      <td>4.626037</td>\n",
       "      <td>9.152951</td>\n",
       "      <td>10.029920</td>\n",
       "      <td>6.468624</td>\n",
       "      <td>24.775993</td>\n",
       "      <td>2.917024</td>\n",
       "      <td>6.902187</td>\n",
       "      <td>10.520058</td>\n",
       "      <td>...</td>\n",
       "      <td>11.855832</td>\n",
       "      <td>5.454505</td>\n",
       "      <td>3.984941</td>\n",
       "      <td>27.982088</td>\n",
       "      <td>7.703930</td>\n",
       "      <td>5.725990</td>\n",
       "      <td>9.952730</td>\n",
       "      <td>24.480901</td>\n",
       "      <td>14.043377</td>\n",
       "      <td>2.104018</td>\n",
       "    </tr>\n",
       "    <tr>\n",
       "      <th>7558</th>\n",
       "      <td>9.905875</td>\n",
       "      <td>3.149657</td>\n",
       "      <td>4.660357</td>\n",
       "      <td>9.164340</td>\n",
       "      <td>9.969496</td>\n",
       "      <td>6.517614</td>\n",
       "      <td>24.335055</td>\n",
       "      <td>2.906431</td>\n",
       "      <td>6.826690</td>\n",
       "      <td>10.570783</td>\n",
       "      <td>...</td>\n",
       "      <td>11.841884</td>\n",
       "      <td>5.442001</td>\n",
       "      <td>3.988187</td>\n",
       "      <td>28.331317</td>\n",
       "      <td>7.682060</td>\n",
       "      <td>5.738080</td>\n",
       "      <td>9.909740</td>\n",
       "      <td>24.617589</td>\n",
       "      <td>13.939782</td>\n",
       "      <td>2.111142</td>\n",
       "    </tr>\n",
       "    <tr>\n",
       "      <th>7559</th>\n",
       "      <td>9.910929</td>\n",
       "      <td>3.141417</td>\n",
       "      <td>4.619221</td>\n",
       "      <td>9.121576</td>\n",
       "      <td>10.091667</td>\n",
       "      <td>6.504782</td>\n",
       "      <td>24.576520</td>\n",
       "      <td>2.918477</td>\n",
       "      <td>6.818180</td>\n",
       "      <td>10.707674</td>\n",
       "      <td>...</td>\n",
       "      <td>11.752289</td>\n",
       "      <td>5.424150</td>\n",
       "      <td>3.961378</td>\n",
       "      <td>28.124344</td>\n",
       "      <td>7.682359</td>\n",
       "      <td>5.736478</td>\n",
       "      <td>9.969102</td>\n",
       "      <td>24.798827</td>\n",
       "      <td>14.036382</td>\n",
       "      <td>2.100600</td>\n",
       "    </tr>\n",
       "    <tr>\n",
       "      <th>7560</th>\n",
       "      <td>9.941323</td>\n",
       "      <td>3.146332</td>\n",
       "      <td>4.633525</td>\n",
       "      <td>9.231621</td>\n",
       "      <td>10.190577</td>\n",
       "      <td>6.518873</td>\n",
       "      <td>24.830427</td>\n",
       "      <td>2.952323</td>\n",
       "      <td>6.806586</td>\n",
       "      <td>10.695624</td>\n",
       "      <td>...</td>\n",
       "      <td>11.823019</td>\n",
       "      <td>5.450816</td>\n",
       "      <td>3.958720</td>\n",
       "      <td>27.985444</td>\n",
       "      <td>7.748457</td>\n",
       "      <td>5.703631</td>\n",
       "      <td>9.964948</td>\n",
       "      <td>24.939399</td>\n",
       "      <td>14.038981</td>\n",
       "      <td>2.118384</td>\n",
       "    </tr>\n",
       "  </tbody>\n",
       "</table>\n",
       "<p>7561 rows × 500 columns</p>\n",
       "</div>"
      ],
      "text/plain": [
       "           0         1         2         3          4         5          6    \\\n",
       "0     1.000000  1.000000  1.000000  1.000000   1.000000  1.000000   1.000000   \n",
       "1     1.001087  0.991860  1.001283  1.008792   1.007656  1.009940   1.003112   \n",
       "2     1.005350  0.997151  0.991572  1.009169   0.995706  1.006495   1.000366   \n",
       "3     0.998889  0.989355  0.984923  0.997801   0.989002  1.000556   1.004808   \n",
       "4     0.998588  0.998863  0.993792  0.998883   0.990168  0.989240   1.002111   \n",
       "...        ...       ...       ...       ...        ...       ...        ...   \n",
       "7556  9.822352  3.161585  4.653328  9.152550  10.098797  6.459282  24.768763   \n",
       "7557  9.743981  3.190548  4.626037  9.152951  10.029920  6.468624  24.775993   \n",
       "7558  9.905875  3.149657  4.660357  9.164340   9.969496  6.517614  24.335055   \n",
       "7559  9.910929  3.141417  4.619221  9.121576  10.091667  6.504782  24.576520   \n",
       "7560  9.941323  3.146332  4.633525  9.231621  10.190577  6.518873  24.830427   \n",
       "\n",
       "           7         8          9    ...        490       491       492  \\\n",
       "0     1.000000  1.000000   1.000000  ...   1.000000  1.000000  1.000000   \n",
       "1     0.995595  0.997233   1.005807  ...   0.997465  1.005878  1.002852   \n",
       "2     0.989013  0.987704   1.015197  ...   0.998921  1.013298  1.014850   \n",
       "3     0.992382  0.989151   1.032004  ...   0.995677  1.023899  1.021312   \n",
       "4     0.986997  0.994104   1.043222  ...   1.001611  1.022648  1.032798   \n",
       "...        ...       ...        ...  ...        ...       ...       ...   \n",
       "7556  2.958500  6.946575  10.561473  ...  11.809102  5.452530  3.928768   \n",
       "7557  2.917024  6.902187  10.520058  ...  11.855832  5.454505  3.984941   \n",
       "7558  2.906431  6.826690  10.570783  ...  11.841884  5.442001  3.988187   \n",
       "7559  2.918477  6.818180  10.707674  ...  11.752289  5.424150  3.961378   \n",
       "7560  2.952323  6.806586  10.695624  ...  11.823019  5.450816  3.958720   \n",
       "\n",
       "            493       494       495       496        497        498       499  \n",
       "0      1.000000  1.000000  1.000000  1.000000   1.000000   1.000000  1.000000  \n",
       "1      0.992556  0.994182  1.000372  0.992523   0.988127   0.994816  0.996206  \n",
       "2      0.980490  0.990652  1.004372  0.986059   0.991619   0.993027  0.996816  \n",
       "3      0.982120  0.991678  1.016861  1.000978   0.983897   0.994423  0.984740  \n",
       "4      0.972812  0.988147  1.012551  1.002413   0.982927   0.989261  1.000148  \n",
       "...         ...       ...       ...       ...        ...        ...       ...  \n",
       "7556  28.053517  7.678124  5.679022  9.924917  24.564194  14.087064  2.086245  \n",
       "7557  27.982088  7.703930  5.725990  9.952730  24.480901  14.043377  2.104018  \n",
       "7558  28.331317  7.682060  5.738080  9.909740  24.617589  13.939782  2.111142  \n",
       "7559  28.124344  7.682359  5.736478  9.969102  24.798827  14.036382  2.100600  \n",
       "7560  27.985444  7.748457  5.703631  9.964948  24.939399  14.038981  2.118384  \n",
       "\n",
       "[7561 rows x 500 columns]"
      ]
     },
     "execution_count": 158,
     "metadata": {},
     "output_type": "execute_result"
    }
   ],
   "source": [
    "# Run the Monte Carlo simulation to forecast 30 years cumulative returns\n",
    "thirty_year_simulation.calc_cumulative_return()\n"
   ]
  },
  {
   "cell_type": "code",
   "execution_count": 159,
   "metadata": {},
   "outputs": [
    {
     "data": {
      "text/plain": [
       "<AxesSubplot:title={'center':'500 Simulations of Cumulative Portfolio Return Trajectories Over the Next 7560 Trading Days.'}>"
      ]
     },
     "execution_count": 159,
     "metadata": {},
     "output_type": "execute_result"
    },
    {
     "data": {
      "image/png": "[encoded data removed]",
      "text/plain": [
       "<Figure size 432x288 with 1 Axes>"
      ]
     },
     "metadata": {
      "needs_background": "light"
     },
     "output_type": "display_data"
    }
   ],
   "source": [
    "# Visualize the 30-year Monte Carlo simulation by creating an\n",
    "# overlay line plot\n",
    "thirty_year_simulation.plot_simulation()\n"
   ]
  },
  {
   "cell_type": "markdown",
   "metadata": {},
   "source": [
    "#### Step 3: Plot the probability distribution of the Monte Carlo simulation."
   ]
  },
  {
   "cell_type": "code",
   "execution_count": 162,
   "metadata": {},
   "outputs": [
    {
     "data": {
      "text/plain": [
       "<AxesSubplot:title={'center':'Distribution of Final Cumuluative Returns Across All 500 Simulations'}, ylabel='Frequency'>"
      ]
     },
     "execution_count": 162,
     "metadata": {},
     "output_type": "execute_result"
    },
    {
     "data": {
      "image/png": "[encoded data removed]",
      "text/plain": [
       "<Figure size 432x288 with 1 Axes>"
      ]
     },
     "metadata": {
      "needs_background": "light"
     },
     "output_type": "display_data"
    }
   ],
   "source": [
    "# Visualize the probability distribution of the 30-year Monte Carlo simulation \n",
    "# by plotting a histogram\n",
    "thirty_year_simulation.plot_distribution()\n"
   ]
  },
  {
   "cell_type": "markdown",
   "metadata": {},
   "source": [
    "#### Step 4: Generate the summary statistics for the Monte Carlo simulation."
   ]
  },
  {
   "cell_type": "code",
   "execution_count": 163,
   "metadata": {},
   "outputs": [
    {
     "name": "stdout",
     "output_type": "stream",
     "text": [
      "count           500.000000\n",
      "mean             12.163862\n",
      "std               9.617466\n",
      "min               1.182104\n",
      "25%               5.768729\n",
      "50%               9.453269\n",
      "75%              14.975519\n",
      "max              73.680447\n",
      "95% CI Lower      2.474047\n",
      "95% CI Upper     40.561154\n",
      "Name: 7560, dtype: float64\n"
     ]
    }
   ],
   "source": [
    "# Generate summary statistics from the 30-year Monte Carlo simulation results\n",
    "# Save the results as a variable\n",
    "thirty_statistics= thirty_year_simulation.summarize_cumulative_return()\n",
    "\n",
    "\n",
    "# Review the 30-year Monte Carlo summary statistics\n",
    "print(thirty_statistics)"
   ]
  },
  {
   "cell_type": "markdown",
   "metadata": {},
   "source": [
    "### Analyze the Retirement Portfolio Forecasts\n",
    "\n",
    "Using the current value of only the stock and bond portion of the member's portfolio and the summary statistics that you generated from the Monte Carlo simulation, answer the following question in your Jupyter notebook:\n",
    "\n",
    "-  What are the lower and upper bounds for the expected value of the portfolio with a 95% confidence interval?\n"
   ]
  },
  {
   "cell_type": "code",
   "execution_count": 164,
   "metadata": {},
   "outputs": [
    {
     "data": {
      "text/plain": [
       "12.163862419572556"
      ]
     },
     "execution_count": 164,
     "metadata": {},
     "output_type": "execute_result"
    }
   ],
   "source": [
    "# Print the current balance of the stock and bond portion of the members portfolio\n",
    "current_balance = thirty_statistics[1]\n",
    "current_balance"
   ]
  },
  {
   "cell_type": "code",
   "execution_count": 165,
   "metadata": {},
   "outputs": [
    {
     "name": "stdout",
     "output_type": "stream",
     "text": [
      "There is a 95% probability of an investment in the portfolio over 30 years will end with a range of 2.47\n",
      "There is a 95% probability of an investment in the portfolio over 30 years will end with a range of 40.56\n"
     ]
    }
   ],
   "source": [
    "# Use the lower and upper `95%` confidence intervals to calculate the range of the possible outcomes for the current stock/bond portfolio\n",
    "ci_lower_thirty_cumulative_return = thirty_statistics[8]\n",
    "ci_upper_thirty_cumulative_return = thirty_statistics[9]\n",
    "\n",
    "# Print the result of your calculations\n",
    "print(f\"There is a 95% probability of an investment in the portfolio over 30 years will end with a range of {ci_lower_thirty_cumulative_return:.2f}\")\n",
    "print(f\"There is a 95% probability of an investment in the portfolio over 30 years will end with a range of {ci_upper_thirty_cumulative_return:.2f}\")\n"
   ]
  },
  {
   "cell_type": "markdown",
   "metadata": {},
   "source": [
    "### Forecast Cumulative Returns in 10 Years\n",
    "\n",
    "The CTO of the credit union is impressed with your work on these planning tools but wonders if 30 years is a long time to wait until retirement. So, your next task is to adjust the retirement portfolio and run a new Monte Carlo simulation to find out if the changes will allow members to retire earlier.\n",
    "\n",
    "For this new Monte Carlo simulation, do the following: \n",
    "\n",
    "- Forecast the cumulative returns for 10 years from now. Because of the shortened investment horizon (30 years to 10 years), the portfolio needs to invest more heavily in the riskier asset&mdash;that is, stock&mdash;to help accumulate wealth for retirement. \n",
    "\n",
    "- Adjust the weights of the retirement portfolio so that the composition for the Monte Carlo simulation consists of 20% bonds and 80% stocks. \n",
    "\n",
    "- Run the simulation over 500 samples, and use the same data that the API call to Alpaca generated.\n",
    "\n",
    "- Based on the new Monte Carlo simulation, answer the following questions in your Jupyter notebook:\n",
    "\n",
    "    - Using the current value of only the stock and bond portion of the member's portfolio and the summary statistics that you generated from the new Monte Carlo simulation, what are the lower and upper bounds for the expected value of the portfolio (with the new weights) with a 95% confidence interval?\n",
    "\n",
    "    - Will weighting the portfolio more heavily toward stocks allow the credit union members to retire after only 10 years?\n"
   ]
  },
  {
   "cell_type": "code",
   "execution_count": 166,
   "metadata": {},
   "outputs": [
    {
     "data": {
      "text/html": [
       "<div>\n",
       "<style scoped>\n",
       "    .dataframe tbody tr th:only-of-type {\n",
       "        vertical-align: middle;\n",
       "    }\n",
       "\n",
       "    .dataframe tbody tr th {\n",
       "        vertical-align: top;\n",
       "    }\n",
       "\n",
       "    .dataframe thead tr th {\n",
       "        text-align: left;\n",
       "    }\n",
       "\n",
       "    .dataframe thead tr:last-of-type th {\n",
       "        text-align: right;\n",
       "    }\n",
       "</style>\n",
       "<table border=\"1\" class=\"dataframe\">\n",
       "  <thead>\n",
       "    <tr>\n",
       "      <th></th>\n",
       "      <th colspan=\"6\" halign=\"left\">AGG</th>\n",
       "      <th colspan=\"6\" halign=\"left\">SPY</th>\n",
       "    </tr>\n",
       "    <tr>\n",
       "      <th></th>\n",
       "      <th>open</th>\n",
       "      <th>high</th>\n",
       "      <th>low</th>\n",
       "      <th>close</th>\n",
       "      <th>volume</th>\n",
       "      <th>daily_return</th>\n",
       "      <th>open</th>\n",
       "      <th>high</th>\n",
       "      <th>low</th>\n",
       "      <th>close</th>\n",
       "      <th>volume</th>\n",
       "      <th>daily_return</th>\n",
       "    </tr>\n",
       "    <tr>\n",
       "      <th>time</th>\n",
       "      <th></th>\n",
       "      <th></th>\n",
       "      <th></th>\n",
       "      <th></th>\n",
       "      <th></th>\n",
       "      <th></th>\n",
       "      <th></th>\n",
       "      <th></th>\n",
       "      <th></th>\n",
       "      <th></th>\n",
       "      <th></th>\n",
       "      <th></th>\n",
       "    </tr>\n",
       "  </thead>\n",
       "  <tbody>\n",
       "    <tr>\n",
       "      <th>2016-08-17 00:00:00-04:00</th>\n",
       "      <td>112.45</td>\n",
       "      <td>112.6600</td>\n",
       "      <td>112.3600</td>\n",
       "      <td>112.580</td>\n",
       "      <td>3136737.0</td>\n",
       "      <td>NaN</td>\n",
       "      <td>NaN</td>\n",
       "      <td>NaN</td>\n",
       "      <td>NaN</td>\n",
       "      <td>NaN</td>\n",
       "      <td>NaN</td>\n",
       "      <td>NaN</td>\n",
       "    </tr>\n",
       "    <tr>\n",
       "      <th>2016-08-18 00:00:00-04:00</th>\n",
       "      <td>112.64</td>\n",
       "      <td>112.7799</td>\n",
       "      <td>112.5350</td>\n",
       "      <td>112.705</td>\n",
       "      <td>1814107.0</td>\n",
       "      <td>0.001110</td>\n",
       "      <td>218.33</td>\n",
       "      <td>218.90</td>\n",
       "      <td>218.21</td>\n",
       "      <td>218.87</td>\n",
       "      <td>42850145.0</td>\n",
       "      <td>NaN</td>\n",
       "    </tr>\n",
       "    <tr>\n",
       "      <th>2016-08-19 00:00:00-04:00</th>\n",
       "      <td>112.53</td>\n",
       "      <td>112.6200</td>\n",
       "      <td>112.3900</td>\n",
       "      <td>112.490</td>\n",
       "      <td>2961016.0</td>\n",
       "      <td>-0.001908</td>\n",
       "      <td>218.31</td>\n",
       "      <td>218.75</td>\n",
       "      <td>217.74</td>\n",
       "      <td>218.57</td>\n",
       "      <td>52238224.0</td>\n",
       "      <td>-0.001371</td>\n",
       "    </tr>\n",
       "    <tr>\n",
       "      <th>2016-08-22 00:00:00-04:00</th>\n",
       "      <td>112.66</td>\n",
       "      <td>112.7380</td>\n",
       "      <td>112.5600</td>\n",
       "      <td>112.650</td>\n",
       "      <td>1647564.0</td>\n",
       "      <td>0.001422</td>\n",
       "      <td>218.27</td>\n",
       "      <td>218.80</td>\n",
       "      <td>217.83</td>\n",
       "      <td>218.50</td>\n",
       "      <td>48628907.0</td>\n",
       "      <td>-0.000320</td>\n",
       "    </tr>\n",
       "    <tr>\n",
       "      <th>2016-08-23 00:00:00-04:00</th>\n",
       "      <td>112.78</td>\n",
       "      <td>112.8250</td>\n",
       "      <td>112.6301</td>\n",
       "      <td>112.690</td>\n",
       "      <td>2197732.0</td>\n",
       "      <td>0.000355</td>\n",
       "      <td>219.25</td>\n",
       "      <td>219.60</td>\n",
       "      <td>218.90</td>\n",
       "      <td>218.94</td>\n",
       "      <td>41981207.0</td>\n",
       "      <td>0.002014</td>\n",
       "    </tr>\n",
       "  </tbody>\n",
       "</table>\n",
       "</div>"
      ],
      "text/plain": [
       "                              AGG                                          \\\n",
       "                             open      high       low    close     volume   \n",
       "time                                                                        \n",
       "2016-08-17 00:00:00-04:00  112.45  112.6600  112.3600  112.580  3136737.0   \n",
       "2016-08-18 00:00:00-04:00  112.64  112.7799  112.5350  112.705  1814107.0   \n",
       "2016-08-19 00:00:00-04:00  112.53  112.6200  112.3900  112.490  2961016.0   \n",
       "2016-08-22 00:00:00-04:00  112.66  112.7380  112.5600  112.650  1647564.0   \n",
       "2016-08-23 00:00:00-04:00  112.78  112.8250  112.6301  112.690  2197732.0   \n",
       "\n",
       "                                           SPY                          \\\n",
       "                          daily_return    open    high     low   close   \n",
       "time                                                                     \n",
       "2016-08-17 00:00:00-04:00          NaN     NaN     NaN     NaN     NaN   \n",
       "2016-08-18 00:00:00-04:00     0.001110  218.33  218.90  218.21  218.87   \n",
       "2016-08-19 00:00:00-04:00    -0.001908  218.31  218.75  217.74  218.57   \n",
       "2016-08-22 00:00:00-04:00     0.001422  218.27  218.80  217.83  218.50   \n",
       "2016-08-23 00:00:00-04:00     0.000355  219.25  219.60  218.90  218.94   \n",
       "\n",
       "                                                    \n",
       "                               volume daily_return  \n",
       "time                                                \n",
       "2016-08-17 00:00:00-04:00         NaN          NaN  \n",
       "2016-08-18 00:00:00-04:00  42850145.0          NaN  \n",
       "2016-08-19 00:00:00-04:00  52238224.0    -0.001371  \n",
       "2016-08-22 00:00:00-04:00  48628907.0    -0.000320  \n",
       "2016-08-23 00:00:00-04:00  41981207.0     0.002014  "
      ]
     },
     "execution_count": 166,
     "metadata": {},
     "output_type": "execute_result"
    }
   ],
   "source": [
    "# Configure a Monte Carlo simulation to forecast 10 years cumulative returns\n",
    "# The weights should be split 20% to AGG and 80% to SPY.\n",
    "# Run 500 samples.\n",
    "tickers=[\"AGG\",\"SPY\"]\n",
    "portfolio_ten_years_df = Alpaca.get_barset(\n",
    "    tickers,\n",
    "    timeframe,\n",
    "    start = start_date,\n",
    "    end = end_date,\n",
    "    limit = limit_rows\n",
    ").df\n",
    "Ten_year_simulation = MCSimulation(\n",
    "     portfolio_data = portfolio_ten_years_df,\n",
    "     weights = [0.20,0.80],\n",
    "     num_simulation=500,\n",
    "     num_trading_days= 252*10) \n",
    "\n",
    "\n",
    "\n",
    "\n",
    "# Review the simulation input data\n",
    "Ten_year_simulation.portfolio_data.head()\n"
   ]
  },
  {
   "cell_type": "code",
   "execution_count": 167,
   "metadata": {},
   "outputs": [
    {
     "name": "stdout",
     "output_type": "stream",
     "text": [
      "Running Monte Carlo simulation number 0.\n",
      "Running Monte Carlo simulation number 10.\n",
      "Running Monte Carlo simulation number 20.\n",
      "Running Monte Carlo simulation number 30.\n",
      "Running Monte Carlo simulation number 40.\n",
      "Running Monte Carlo simulation number 50.\n",
      "Running Monte Carlo simulation number 60.\n",
      "Running Monte Carlo simulation number 70.\n",
      "Running Monte Carlo simulation number 80.\n",
      "Running Monte Carlo simulation number 90.\n",
      "Running Monte Carlo simulation number 100.\n",
      "Running Monte Carlo simulation number 110.\n",
      "Running Monte Carlo simulation number 120.\n",
      "Running Monte Carlo simulation number 130.\n",
      "Running Monte Carlo simulation number 140.\n",
      "Running Monte Carlo simulation number 150.\n",
      "Running Monte Carlo simulation number 160.\n",
      "Running Monte Carlo simulation number 170.\n",
      "Running Monte Carlo simulation number 180.\n",
      "Running Monte Carlo simulation number 190.\n",
      "Running Monte Carlo simulation number 200.\n",
      "Running Monte Carlo simulation number 210.\n",
      "Running Monte Carlo simulation number 220.\n",
      "Running Monte Carlo simulation number 230.\n",
      "Running Monte Carlo simulation number 240.\n",
      "Running Monte Carlo simulation number 250.\n",
      "Running Monte Carlo simulation number 260.\n",
      "Running Monte Carlo simulation number 270.\n",
      "Running Monte Carlo simulation number 280.\n",
      "Running Monte Carlo simulation number 290.\n",
      "Running Monte Carlo simulation number 300.\n",
      "Running Monte Carlo simulation number 310.\n",
      "Running Monte Carlo simulation number 320.\n",
      "Running Monte Carlo simulation number 330.\n",
      "Running Monte Carlo simulation number 340.\n",
      "Running Monte Carlo simulation number 350.\n",
      "Running Monte Carlo simulation number 360.\n",
      "Running Monte Carlo simulation number 370.\n",
      "Running Monte Carlo simulation number 380.\n",
      "Running Monte Carlo simulation number 390.\n",
      "Running Monte Carlo simulation number 400.\n",
      "Running Monte Carlo simulation number 410.\n",
      "Running Monte Carlo simulation number 420.\n",
      "Running Monte Carlo simulation number 430.\n",
      "Running Monte Carlo simulation number 440.\n",
      "Running Monte Carlo simulation number 450.\n",
      "Running Monte Carlo simulation number 460.\n",
      "Running Monte Carlo simulation number 470.\n",
      "Running Monte Carlo simulation number 480.\n",
      "Running Monte Carlo simulation number 490.\n"
     ]
    },
    {
     "data": {
      "text/html": [
       "<div>\n",
       "<style scoped>\n",
       "    .dataframe tbody tr th:only-of-type {\n",
       "        vertical-align: middle;\n",
       "    }\n",
       "\n",
       "    .dataframe tbody tr th {\n",
       "        vertical-align: top;\n",
       "    }\n",
       "\n",
       "    .dataframe thead th {\n",
       "        text-align: right;\n",
       "    }\n",
       "</style>\n",
       "<table border=\"1\" class=\"dataframe\">\n",
       "  <thead>\n",
       "    <tr style=\"text-align: right;\">\n",
       "      <th></th>\n",
       "      <th>0</th>\n",
       "      <th>1</th>\n",
       "      <th>2</th>\n",
       "      <th>3</th>\n",
       "      <th>4</th>\n",
       "      <th>5</th>\n",
       "      <th>6</th>\n",
       "      <th>7</th>\n",
       "      <th>8</th>\n",
       "      <th>9</th>\n",
       "      <th>...</th>\n",
       "      <th>490</th>\n",
       "      <th>491</th>\n",
       "      <th>492</th>\n",
       "      <th>493</th>\n",
       "      <th>494</th>\n",
       "      <th>495</th>\n",
       "      <th>496</th>\n",
       "      <th>497</th>\n",
       "      <th>498</th>\n",
       "      <th>499</th>\n",
       "    </tr>\n",
       "  </thead>\n",
       "  <tbody>\n",
       "    <tr>\n",
       "      <th>0</th>\n",
       "      <td>1.000000</td>\n",
       "      <td>1.000000</td>\n",
       "      <td>1.000000</td>\n",
       "      <td>1.000000</td>\n",
       "      <td>1.000000</td>\n",
       "      <td>1.000000</td>\n",
       "      <td>1.000000</td>\n",
       "      <td>1.000000</td>\n",
       "      <td>1.000000</td>\n",
       "      <td>1.000000</td>\n",
       "      <td>...</td>\n",
       "      <td>1.000000</td>\n",
       "      <td>1.000000</td>\n",
       "      <td>1.000000</td>\n",
       "      <td>1.000000</td>\n",
       "      <td>1.000000</td>\n",
       "      <td>1.000000</td>\n",
       "      <td>1.000000</td>\n",
       "      <td>1.000000</td>\n",
       "      <td>1.000000</td>\n",
       "      <td>1.000000</td>\n",
       "    </tr>\n",
       "    <tr>\n",
       "      <th>1</th>\n",
       "      <td>0.992805</td>\n",
       "      <td>1.000547</td>\n",
       "      <td>0.996890</td>\n",
       "      <td>0.987952</td>\n",
       "      <td>1.014839</td>\n",
       "      <td>0.989996</td>\n",
       "      <td>0.999150</td>\n",
       "      <td>1.003807</td>\n",
       "      <td>1.002256</td>\n",
       "      <td>1.006475</td>\n",
       "      <td>...</td>\n",
       "      <td>1.007230</td>\n",
       "      <td>1.030961</td>\n",
       "      <td>1.014516</td>\n",
       "      <td>1.010512</td>\n",
       "      <td>0.987039</td>\n",
       "      <td>1.019505</td>\n",
       "      <td>1.000427</td>\n",
       "      <td>1.006054</td>\n",
       "      <td>0.992040</td>\n",
       "      <td>0.991448</td>\n",
       "    </tr>\n",
       "    <tr>\n",
       "      <th>2</th>\n",
       "      <td>0.981944</td>\n",
       "      <td>0.987016</td>\n",
       "      <td>0.982784</td>\n",
       "      <td>0.989455</td>\n",
       "      <td>1.025460</td>\n",
       "      <td>0.984637</td>\n",
       "      <td>0.996639</td>\n",
       "      <td>1.003011</td>\n",
       "      <td>1.009017</td>\n",
       "      <td>1.011915</td>\n",
       "      <td>...</td>\n",
       "      <td>1.000944</td>\n",
       "      <td>1.022760</td>\n",
       "      <td>1.015974</td>\n",
       "      <td>0.994335</td>\n",
       "      <td>0.976042</td>\n",
       "      <td>1.009114</td>\n",
       "      <td>1.005284</td>\n",
       "      <td>0.994547</td>\n",
       "      <td>0.997520</td>\n",
       "      <td>0.975975</td>\n",
       "    </tr>\n",
       "    <tr>\n",
       "      <th>3</th>\n",
       "      <td>0.994274</td>\n",
       "      <td>0.988284</td>\n",
       "      <td>0.967547</td>\n",
       "      <td>0.989313</td>\n",
       "      <td>1.008531</td>\n",
       "      <td>0.982721</td>\n",
       "      <td>0.985546</td>\n",
       "      <td>1.011473</td>\n",
       "      <td>1.018656</td>\n",
       "      <td>1.012991</td>\n",
       "      <td>...</td>\n",
       "      <td>0.996249</td>\n",
       "      <td>1.013950</td>\n",
       "      <td>1.025168</td>\n",
       "      <td>0.997333</td>\n",
       "      <td>0.980920</td>\n",
       "      <td>1.016058</td>\n",
       "      <td>1.009284</td>\n",
       "      <td>1.008956</td>\n",
       "      <td>0.983585</td>\n",
       "      <td>0.972993</td>\n",
       "    </tr>\n",
       "    <tr>\n",
       "      <th>4</th>\n",
       "      <td>0.988464</td>\n",
       "      <td>0.990920</td>\n",
       "      <td>0.968525</td>\n",
       "      <td>0.993392</td>\n",
       "      <td>0.995656</td>\n",
       "      <td>0.997350</td>\n",
       "      <td>0.982704</td>\n",
       "      <td>1.018602</td>\n",
       "      <td>1.036836</td>\n",
       "      <td>1.024779</td>\n",
       "      <td>...</td>\n",
       "      <td>0.996661</td>\n",
       "      <td>1.013423</td>\n",
       "      <td>1.015294</td>\n",
       "      <td>1.000548</td>\n",
       "      <td>0.982735</td>\n",
       "      <td>1.025975</td>\n",
       "      <td>1.024347</td>\n",
       "      <td>1.015622</td>\n",
       "      <td>0.985697</td>\n",
       "      <td>0.972728</td>\n",
       "    </tr>\n",
       "    <tr>\n",
       "      <th>...</th>\n",
       "      <td>...</td>\n",
       "      <td>...</td>\n",
       "      <td>...</td>\n",
       "      <td>...</td>\n",
       "      <td>...</td>\n",
       "      <td>...</td>\n",
       "      <td>...</td>\n",
       "      <td>...</td>\n",
       "      <td>...</td>\n",
       "      <td>...</td>\n",
       "      <td>...</td>\n",
       "      <td>...</td>\n",
       "      <td>...</td>\n",
       "      <td>...</td>\n",
       "      <td>...</td>\n",
       "      <td>...</td>\n",
       "      <td>...</td>\n",
       "      <td>...</td>\n",
       "      <td>...</td>\n",
       "      <td>...</td>\n",
       "      <td>...</td>\n",
       "    </tr>\n",
       "    <tr>\n",
       "      <th>2516</th>\n",
       "      <td>1.868248</td>\n",
       "      <td>3.065250</td>\n",
       "      <td>3.555182</td>\n",
       "      <td>0.694634</td>\n",
       "      <td>1.881193</td>\n",
       "      <td>6.163437</td>\n",
       "      <td>2.138512</td>\n",
       "      <td>3.006103</td>\n",
       "      <td>7.128100</td>\n",
       "      <td>1.547827</td>\n",
       "      <td>...</td>\n",
       "      <td>4.542746</td>\n",
       "      <td>3.993045</td>\n",
       "      <td>0.922472</td>\n",
       "      <td>2.452770</td>\n",
       "      <td>2.218272</td>\n",
       "      <td>1.719934</td>\n",
       "      <td>2.667512</td>\n",
       "      <td>4.603548</td>\n",
       "      <td>3.546895</td>\n",
       "      <td>2.105005</td>\n",
       "    </tr>\n",
       "    <tr>\n",
       "      <th>2517</th>\n",
       "      <td>1.883887</td>\n",
       "      <td>3.109310</td>\n",
       "      <td>3.545692</td>\n",
       "      <td>0.693039</td>\n",
       "      <td>1.866465</td>\n",
       "      <td>6.189572</td>\n",
       "      <td>2.144415</td>\n",
       "      <td>3.017546</td>\n",
       "      <td>7.298628</td>\n",
       "      <td>1.563306</td>\n",
       "      <td>...</td>\n",
       "      <td>4.546731</td>\n",
       "      <td>4.027859</td>\n",
       "      <td>0.921822</td>\n",
       "      <td>2.486509</td>\n",
       "      <td>2.211203</td>\n",
       "      <td>1.730163</td>\n",
       "      <td>2.661759</td>\n",
       "      <td>4.598932</td>\n",
       "      <td>3.550713</td>\n",
       "      <td>2.085105</td>\n",
       "    </tr>\n",
       "    <tr>\n",
       "      <th>2518</th>\n",
       "      <td>1.883809</td>\n",
       "      <td>3.117552</td>\n",
       "      <td>3.491481</td>\n",
       "      <td>0.697541</td>\n",
       "      <td>1.851365</td>\n",
       "      <td>6.235087</td>\n",
       "      <td>2.133249</td>\n",
       "      <td>3.025230</td>\n",
       "      <td>7.185708</td>\n",
       "      <td>1.570764</td>\n",
       "      <td>...</td>\n",
       "      <td>4.600183</td>\n",
       "      <td>4.082693</td>\n",
       "      <td>0.934715</td>\n",
       "      <td>2.465986</td>\n",
       "      <td>2.190785</td>\n",
       "      <td>1.741581</td>\n",
       "      <td>2.690708</td>\n",
       "      <td>4.555227</td>\n",
       "      <td>3.586577</td>\n",
       "      <td>2.076577</td>\n",
       "    </tr>\n",
       "    <tr>\n",
       "      <th>2519</th>\n",
       "      <td>1.898395</td>\n",
       "      <td>3.146559</td>\n",
       "      <td>3.535920</td>\n",
       "      <td>0.690079</td>\n",
       "      <td>1.870757</td>\n",
       "      <td>6.196524</td>\n",
       "      <td>2.099495</td>\n",
       "      <td>3.038819</td>\n",
       "      <td>7.242895</td>\n",
       "      <td>1.595189</td>\n",
       "      <td>...</td>\n",
       "      <td>4.535629</td>\n",
       "      <td>4.068053</td>\n",
       "      <td>0.946248</td>\n",
       "      <td>2.444046</td>\n",
       "      <td>2.197745</td>\n",
       "      <td>1.768827</td>\n",
       "      <td>2.682468</td>\n",
       "      <td>4.608568</td>\n",
       "      <td>3.636361</td>\n",
       "      <td>2.053915</td>\n",
       "    </tr>\n",
       "    <tr>\n",
       "      <th>2520</th>\n",
       "      <td>1.903130</td>\n",
       "      <td>3.164480</td>\n",
       "      <td>3.590545</td>\n",
       "      <td>0.703864</td>\n",
       "      <td>1.851416</td>\n",
       "      <td>6.053237</td>\n",
       "      <td>2.127241</td>\n",
       "      <td>3.046084</td>\n",
       "      <td>7.221798</td>\n",
       "      <td>1.591754</td>\n",
       "      <td>...</td>\n",
       "      <td>4.585528</td>\n",
       "      <td>4.040909</td>\n",
       "      <td>0.948660</td>\n",
       "      <td>2.454428</td>\n",
       "      <td>2.194439</td>\n",
       "      <td>1.759213</td>\n",
       "      <td>2.694838</td>\n",
       "      <td>4.603875</td>\n",
       "      <td>3.632027</td>\n",
       "      <td>2.050990</td>\n",
       "    </tr>\n",
       "  </tbody>\n",
       "</table>\n",
       "<p>2521 rows × 500 columns</p>\n",
       "</div>"
      ],
      "text/plain": [
       "           0         1         2         3         4         5         6    \\\n",
       "0     1.000000  1.000000  1.000000  1.000000  1.000000  1.000000  1.000000   \n",
       "1     0.992805  1.000547  0.996890  0.987952  1.014839  0.989996  0.999150   \n",
       "2     0.981944  0.987016  0.982784  0.989455  1.025460  0.984637  0.996639   \n",
       "3     0.994274  0.988284  0.967547  0.989313  1.008531  0.982721  0.985546   \n",
       "4     0.988464  0.990920  0.968525  0.993392  0.995656  0.997350  0.982704   \n",
       "...        ...       ...       ...       ...       ...       ...       ...   \n",
       "2516  1.868248  3.065250  3.555182  0.694634  1.881193  6.163437  2.138512   \n",
       "2517  1.883887  3.109310  3.545692  0.693039  1.866465  6.189572  2.144415   \n",
       "2518  1.883809  3.117552  3.491481  0.697541  1.851365  6.235087  2.133249   \n",
       "2519  1.898395  3.146559  3.535920  0.690079  1.870757  6.196524  2.099495   \n",
       "2520  1.903130  3.164480  3.590545  0.703864  1.851416  6.053237  2.127241   \n",
       "\n",
       "           7         8         9    ...       490       491       492  \\\n",
       "0     1.000000  1.000000  1.000000  ...  1.000000  1.000000  1.000000   \n",
       "1     1.003807  1.002256  1.006475  ...  1.007230  1.030961  1.014516   \n",
       "2     1.003011  1.009017  1.011915  ...  1.000944  1.022760  1.015974   \n",
       "3     1.011473  1.018656  1.012991  ...  0.996249  1.013950  1.025168   \n",
       "4     1.018602  1.036836  1.024779  ...  0.996661  1.013423  1.015294   \n",
       "...        ...       ...       ...  ...       ...       ...       ...   \n",
       "2516  3.006103  7.128100  1.547827  ...  4.542746  3.993045  0.922472   \n",
       "2517  3.017546  7.298628  1.563306  ...  4.546731  4.027859  0.921822   \n",
       "2518  3.025230  7.185708  1.570764  ...  4.600183  4.082693  0.934715   \n",
       "2519  3.038819  7.242895  1.595189  ...  4.535629  4.068053  0.946248   \n",
       "2520  3.046084  7.221798  1.591754  ...  4.585528  4.040909  0.948660   \n",
       "\n",
       "           493       494       495       496       497       498       499  \n",
       "0     1.000000  1.000000  1.000000  1.000000  1.000000  1.000000  1.000000  \n",
       "1     1.010512  0.987039  1.019505  1.000427  1.006054  0.992040  0.991448  \n",
       "2     0.994335  0.976042  1.009114  1.005284  0.994547  0.997520  0.975975  \n",
       "3     0.997333  0.980920  1.016058  1.009284  1.008956  0.983585  0.972993  \n",
       "4     1.000548  0.982735  1.025975  1.024347  1.015622  0.985697  0.972728  \n",
       "...        ...       ...       ...       ...       ...       ...       ...  \n",
       "2516  2.452770  2.218272  1.719934  2.667512  4.603548  3.546895  2.105005  \n",
       "2517  2.486509  2.211203  1.730163  2.661759  4.598932  3.550713  2.085105  \n",
       "2518  2.465986  2.190785  1.741581  2.690708  4.555227  3.586577  2.076577  \n",
       "2519  2.444046  2.197745  1.768827  2.682468  4.608568  3.636361  2.053915  \n",
       "2520  2.454428  2.194439  1.759213  2.694838  4.603875  3.632027  2.050990  \n",
       "\n",
       "[2521 rows x 500 columns]"
      ]
     },
     "execution_count": 167,
     "metadata": {},
     "output_type": "execute_result"
    }
   ],
   "source": [
    "# Run the Monte Carlo simulation to forecast 10 years cumulative returns\n",
    "Ten_year_simulation.calc_cumulative_return()\n"
   ]
  },
  {
   "cell_type": "code",
   "execution_count": 168,
   "metadata": {},
   "outputs": [
    {
     "data": {
      "text/plain": [
       "<AxesSubplot:title={'center':'500 Simulations of Cumulative Portfolio Return Trajectories Over the Next 2520 Trading Days.'}>"
      ]
     },
     "execution_count": 168,
     "metadata": {},
     "output_type": "execute_result"
    },
    {
     "data": {
      "image/png": "[encoded data removed]",
      "text/plain": [
       "<Figure size 432x288 with 1 Axes>"
      ]
     },
     "metadata": {
      "needs_background": "light"
     },
     "output_type": "display_data"
    }
   ],
   "source": [
    "# Visualize the 10-year Monte Carlo simulation by creating an\n",
    "# overlay line plot\n",
    "Ten_year_simulation.plot_simulation()\n"
   ]
  },
  {
   "cell_type": "code",
   "execution_count": 169,
   "metadata": {},
   "outputs": [
    {
     "data": {
      "text/plain": [
       "<AxesSubplot:title={'center':'Distribution of Final Cumuluative Returns Across All 500 Simulations'}, ylabel='Frequency'>"
      ]
     },
     "execution_count": 169,
     "metadata": {},
     "output_type": "execute_result"
    },
    {
     "data": {
      "image/png": "[encoded data removed]",
      "text/plain": [
       "<Figure size 432x288 with 1 Axes>"
      ]
     },
     "metadata": {
      "needs_background": "light"
     },
     "output_type": "display_data"
    }
   ],
   "source": [
    "# Visualize the probability distribution of the 10-year Monte Carlo simulation \n",
    "# by plotting a histogram\n",
    "Ten_year_simulation.plot_distribution()\n"
   ]
  },
  {
   "cell_type": "code",
   "execution_count": 170,
   "metadata": {},
   "outputs": [
    {
     "name": "stdout",
     "output_type": "stream",
     "text": [
      "count           500.000000\n",
      "mean              2.879597\n",
      "std               1.566586\n",
      "min               0.620271\n",
      "25%               1.801690\n",
      "50%               2.534746\n",
      "75%               3.482365\n",
      "max              14.618153\n",
      "95% CI Lower      0.918997\n",
      "95% CI Upper      6.566991\n",
      "Name: 2520, dtype: float64\n"
     ]
    }
   ],
   "source": [
    "# Generate summary statistics from the 10-year Monte Carlo simulation results\n",
    "# Save the results as a variable\n",
    "Ten_statistics= Ten_year_simulation.summarize_cumulative_return()\n",
    "\n",
    "\n",
    "# Review the 10-year Monte Carlo summary statistics\n",
    "print(Ten_statistics)"
   ]
  },
  {
   "cell_type": "markdown",
   "metadata": {},
   "source": [
    "### Answer the following questions:"
   ]
  },
  {
   "cell_type": "markdown",
   "metadata": {},
   "source": [
    "#### Question: Using the current value of only the stock and bond portion of the member's portfolio and the summary statistics that you generated from the new Monte Carlo simulation, what are the lower and upper bounds for the expected value of the portfolio (with the new weights) with a 95% confidence interval?"
   ]
  },
  {
   "cell_type": "code",
   "execution_count": 173,
   "metadata": {},
   "outputs": [
    {
     "data": {
      "text/plain": [
       "2.879597365477336"
      ]
     },
     "execution_count": 173,
     "metadata": {},
     "output_type": "execute_result"
    }
   ],
   "source": [
    "# Print the current balance of the stock and bond portion of the members portfolio\n",
    "current_balance = Ten_statistics[1]\n",
    "current_balance"
   ]
  },
  {
   "cell_type": "code",
   "execution_count": 174,
   "metadata": {},
   "outputs": [
    {
     "name": "stdout",
     "output_type": "stream",
     "text": [
      "There is a 95% probability of an investment in the portfolio over ten years will end with a range of 0.92\n",
      "There is a 95% probability of an investment in the portfolio over ten years will end with a range of 6.57\n"
     ]
    }
   ],
   "source": [
    "# Use the lower and upper `95%` confidence intervals to calculate the range of the possible outcomes for the current stock/bond portfolio\n",
    "ci_lower_ten_cumulative_return = Ten_statistics[8]\n",
    "ci_upper_ten_cumulative_return= Ten_statistics[9]\n",
    "\n",
    "# Print the result of your calculations\n",
    "print(f\"There is a 95% probability of an investment in the portfolio over ten years will end with a range of {ci_lower_ten_cumulative_return:.2f}\")\n",
    "print(f\"There is a 95% probability of an investment in the portfolio over ten years will end with a range of {ci_upper_ten_cumulative_return:.2f}\")\n"
   ]
  },
  {
   "cell_type": "markdown",
   "metadata": {},
   "source": [
    "#### Question: Will weighting the portfolio more heavily to stocks allow the credit union members to retire after only 10 years?"
   ]
  },
  {
   "cell_type": "raw",
   "metadata": {},
   "source": [
    "**Answer** Weighting the portfolio more heavily towards stocks will be more likely to allow credit union memebers to retire after 10 years."
   ]
  },
  {
   "cell_type": "code",
   "execution_count": null,
   "metadata": {},
   "outputs": [],
   "source": []
  }
 ],
 "metadata": {
  "kernelspec": {
   "display_name": "Python 3",
   "language": "python",
   "name": "python3"
  },
  "language_info": {
   "codemirror_mode": {
    "name": "ipython",
    "version": 3
   },
   "file_extension": ".py",
   "mimetype": "text/x-python",
   "name": "python",
   "nbconvert_exporter": "python",
   "pygments_lexer": "ipython3",
   "version": "3.8.8"
  }
 },
 "nbformat": 4,
 "nbformat_minor": 4
}
